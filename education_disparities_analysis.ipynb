{
 "cells": [
  {
   "cell_type": "markdown",
   "id": "ea730ef8",
   "metadata": {},
   "source": [
    "# Geographic Disparities in Education Access: Analysis Notebook\n",
    "This notebook follows the workflow to analyze geographic disparities in education access across Sub-Saharan Africa using the `sub_saharan_africa.csv` dataset."
   ]
  },
  {
   "cell_type": "code",
   "execution_count": 17,
   "id": "f775a750",
   "metadata": {},
   "outputs": [],
   "source": [
    "import pandas as pd\n",
    "import matplotlib.pyplot as plt\n",
    "import plotly.express as px\n",
    "from sklearn.cluster import KMeans\n",
    "from jupyter_dash import JupyterDash\n",
    "from dash import dcc, html, Input, Output\n",
    "import plotly.graph_objects as go\n"
   ]
  },
  {
   "cell_type": "code",
   "execution_count": 18,
   "id": "0b23bf0a",
   "metadata": {},
   "outputs": [
    {
     "name": "stderr",
     "output_type": "stream",
     "text": [
      "C:\\Users\\ADMIN\\AppData\\Local\\Temp\\ipykernel_11216\\3900669629.py:2: DtypeWarning:\n",
      "\n",
      "Columns (7,14,16,17,18) have mixed types. Specify dtype option on import or set low_memory=False.\n",
      "\n"
     ]
    },
    {
     "data": {
      "text/html": [
       "<div>\n",
       "<style scoped>\n",
       "    .dataframe tbody tr th:only-of-type {\n",
       "        vertical-align: middle;\n",
       "    }\n",
       "\n",
       "    .dataframe tbody tr th {\n",
       "        vertical-align: top;\n",
       "    }\n",
       "\n",
       "    .dataframe thead th {\n",
       "        text-align: right;\n",
       "    }\n",
       "</style>\n",
       "<table border=\"1\" class=\"dataframe\">\n",
       "  <thead>\n",
       "    <tr style=\"text-align: right;\">\n",
       "      <th></th>\n",
       "      <th>Unnamed: 0</th>\n",
       "      <th>iso_code</th>\n",
       "      <th>region_group</th>\n",
       "      <th>income_group</th>\n",
       "      <th>country</th>\n",
       "      <th>survey</th>\n",
       "      <th>year</th>\n",
       "      <th>level</th>\n",
       "      <th>grade</th>\n",
       "      <th>category</th>\n",
       "      <th>...</th>\n",
       "      <th>rlevel3_m</th>\n",
       "      <th>rlevel3_no</th>\n",
       "      <th>slevel3_m</th>\n",
       "      <th>slevel3_no</th>\n",
       "      <th>mlevel4_m</th>\n",
       "      <th>mlevel4_no</th>\n",
       "      <th>rlevel4_m</th>\n",
       "      <th>rlevel4_no</th>\n",
       "      <th>slevel4_m</th>\n",
       "      <th>slevel4_no</th>\n",
       "    </tr>\n",
       "  </thead>\n",
       "  <tbody>\n",
       "    <tr>\n",
       "      <th>0</th>\n",
       "      <td>868</td>\n",
       "      <td>AGO</td>\n",
       "      <td>Sub-Saharan Africa</td>\n",
       "      <td>Lower middle income</td>\n",
       "      <td>Angola</td>\n",
       "      <td>DHS</td>\n",
       "      <td>2015</td>\n",
       "      <td>NaN</td>\n",
       "      <td>1</td>\n",
       "      <td>Location</td>\n",
       "      <td>...</td>\n",
       "      <td>NaN</td>\n",
       "      <td>NaN</td>\n",
       "      <td>NaN</td>\n",
       "      <td>NaN</td>\n",
       "      <td>NaN</td>\n",
       "      <td>NaN</td>\n",
       "      <td>NaN</td>\n",
       "      <td>NaN</td>\n",
       "      <td>NaN</td>\n",
       "      <td>NaN</td>\n",
       "    </tr>\n",
       "    <tr>\n",
       "      <th>1</th>\n",
       "      <td>869</td>\n",
       "      <td>AGO</td>\n",
       "      <td>Sub-Saharan Africa</td>\n",
       "      <td>Lower middle income</td>\n",
       "      <td>Angola</td>\n",
       "      <td>DHS</td>\n",
       "      <td>2015</td>\n",
       "      <td>NaN</td>\n",
       "      <td>1</td>\n",
       "      <td>Location</td>\n",
       "      <td>...</td>\n",
       "      <td>NaN</td>\n",
       "      <td>NaN</td>\n",
       "      <td>NaN</td>\n",
       "      <td>NaN</td>\n",
       "      <td>NaN</td>\n",
       "      <td>NaN</td>\n",
       "      <td>NaN</td>\n",
       "      <td>NaN</td>\n",
       "      <td>NaN</td>\n",
       "      <td>NaN</td>\n",
       "    </tr>\n",
       "    <tr>\n",
       "      <th>2</th>\n",
       "      <td>870</td>\n",
       "      <td>AGO</td>\n",
       "      <td>Sub-Saharan Africa</td>\n",
       "      <td>Lower middle income</td>\n",
       "      <td>Angola</td>\n",
       "      <td>DHS</td>\n",
       "      <td>2015</td>\n",
       "      <td>NaN</td>\n",
       "      <td>1</td>\n",
       "      <td>Location &amp; Religion</td>\n",
       "      <td>...</td>\n",
       "      <td>NaN</td>\n",
       "      <td>NaN</td>\n",
       "      <td>NaN</td>\n",
       "      <td>NaN</td>\n",
       "      <td>NaN</td>\n",
       "      <td>NaN</td>\n",
       "      <td>NaN</td>\n",
       "      <td>NaN</td>\n",
       "      <td>NaN</td>\n",
       "      <td>NaN</td>\n",
       "    </tr>\n",
       "    <tr>\n",
       "      <th>3</th>\n",
       "      <td>871</td>\n",
       "      <td>AGO</td>\n",
       "      <td>Sub-Saharan Africa</td>\n",
       "      <td>Lower middle income</td>\n",
       "      <td>Angola</td>\n",
       "      <td>DHS</td>\n",
       "      <td>2015</td>\n",
       "      <td>NaN</td>\n",
       "      <td>1</td>\n",
       "      <td>Location &amp; Religion</td>\n",
       "      <td>...</td>\n",
       "      <td>NaN</td>\n",
       "      <td>NaN</td>\n",
       "      <td>NaN</td>\n",
       "      <td>NaN</td>\n",
       "      <td>NaN</td>\n",
       "      <td>NaN</td>\n",
       "      <td>NaN</td>\n",
       "      <td>NaN</td>\n",
       "      <td>NaN</td>\n",
       "      <td>NaN</td>\n",
       "    </tr>\n",
       "    <tr>\n",
       "      <th>4</th>\n",
       "      <td>872</td>\n",
       "      <td>AGO</td>\n",
       "      <td>Sub-Saharan Africa</td>\n",
       "      <td>Lower middle income</td>\n",
       "      <td>Angola</td>\n",
       "      <td>DHS</td>\n",
       "      <td>2015</td>\n",
       "      <td>NaN</td>\n",
       "      <td>1</td>\n",
       "      <td>Location &amp; Religion</td>\n",
       "      <td>...</td>\n",
       "      <td>NaN</td>\n",
       "      <td>NaN</td>\n",
       "      <td>NaN</td>\n",
       "      <td>NaN</td>\n",
       "      <td>NaN</td>\n",
       "      <td>NaN</td>\n",
       "      <td>NaN</td>\n",
       "      <td>NaN</td>\n",
       "      <td>NaN</td>\n",
       "      <td>NaN</td>\n",
       "    </tr>\n",
       "  </tbody>\n",
       "</table>\n",
       "<p>5 rows × 89 columns</p>\n",
       "</div>"
      ],
      "text/plain": [
       "   Unnamed: 0 iso_code        region_group         income_group country  \\\n",
       "0         868      AGO  Sub-Saharan Africa  Lower middle income  Angola   \n",
       "1         869      AGO  Sub-Saharan Africa  Lower middle income  Angola   \n",
       "2         870      AGO  Sub-Saharan Africa  Lower middle income  Angola   \n",
       "3         871      AGO  Sub-Saharan Africa  Lower middle income  Angola   \n",
       "4         872      AGO  Sub-Saharan Africa  Lower middle income  Angola   \n",
       "\n",
       "  survey  year level  grade             category  ... rlevel3_m rlevel3_no  \\\n",
       "0    DHS  2015   NaN      1             Location  ...       NaN        NaN   \n",
       "1    DHS  2015   NaN      1             Location  ...       NaN        NaN   \n",
       "2    DHS  2015   NaN      1  Location & Religion  ...       NaN        NaN   \n",
       "3    DHS  2015   NaN      1  Location & Religion  ...       NaN        NaN   \n",
       "4    DHS  2015   NaN      1  Location & Religion  ...       NaN        NaN   \n",
       "\n",
       "  slevel3_m slevel3_no mlevel4_m mlevel4_no rlevel4_m rlevel4_no slevel4_m  \\\n",
       "0       NaN        NaN       NaN        NaN       NaN        NaN       NaN   \n",
       "1       NaN        NaN       NaN        NaN       NaN        NaN       NaN   \n",
       "2       NaN        NaN       NaN        NaN       NaN        NaN       NaN   \n",
       "3       NaN        NaN       NaN        NaN       NaN        NaN       NaN   \n",
       "4       NaN        NaN       NaN        NaN       NaN        NaN       NaN   \n",
       "\n",
       "   slevel4_no  \n",
       "0         NaN  \n",
       "1         NaN  \n",
       "2         NaN  \n",
       "3         NaN  \n",
       "4         NaN  \n",
       "\n",
       "[5 rows x 89 columns]"
      ]
     },
     "execution_count": 18,
     "metadata": {},
     "output_type": "execute_result"
    }
   ],
   "source": [
    "# Load the dataset\n",
    "df = pd.read_csv('sub_saharan_africa.csv')\n",
    "df.head()"
   ]
  },
  {
   "cell_type": "markdown",
   "id": "f1552604",
   "metadata": {},
   "source": [
    "## Data Cleaning and Preparation\n",
    "- Drop unnamed index columns\n",
    "- Standardize country names\n",
    "- Filter to 'Total' category and latest survey year\n",
    "- Select key indicators: literacy_1524_m, comp_prim_v2_m, eduyears_2024_m"
   ]
  },
  {
   "cell_type": "code",
   "execution_count": 19,
   "id": "495c6409",
   "metadata": {},
   "outputs": [],
   "source": [
    "# Drop unnamed index column if exists\n",
    "df = df.loc[:, ~df.columns.str.contains('^Unnamed')]\n",
    "\n",
    "# Standardize country names (example)\n",
    "df['country'] = df['country'].replace({\"CÃÂ´te d'Ivoire\": \"Côte d'Ivoire\"})\n",
    "\n",
    "# Filter to total category\n",
    "df_total = df[df['category'] == 'Total'].copy()"
   ]
  },
  {
   "cell_type": "code",
   "execution_count": 20,
   "id": "05525b91",
   "metadata": {},
   "outputs": [
    {
     "name": "stdout",
     "output_type": "stream",
     "text": [
      "<class 'pandas.core.frame.DataFrame'>\n",
      "Index: 316 entries, 280 to 48502\n",
      "Data columns (total 88 columns):\n",
      " #   Column                    Non-Null Count  Dtype  \n",
      "---  ------                    --------------  -----  \n",
      " 0   iso_code                  316 non-null    object \n",
      " 1   region_group              316 non-null    object \n",
      " 2   income_group              316 non-null    object \n",
      " 3   country                   316 non-null    object \n",
      " 4   survey                    316 non-null    object \n",
      " 5   year                      316 non-null    int64  \n",
      " 6   level                     83 non-null     object \n",
      " 7   grade                     316 non-null    int64  \n",
      " 8   category                  316 non-null    object \n",
      " 9   sex                       0 non-null      object \n",
      " 10  location                  0 non-null      object \n",
      " 11  wealth                    0 non-null      object \n",
      " 12  region                    0 non-null      object \n",
      " 13  ethnicity                 0 non-null      object \n",
      " 14  religion                  0 non-null      object \n",
      " 15  language                  0 non-null      object \n",
      " 16  disability                0 non-null      object \n",
      " 17  hh_edu_head               0 non-null      object \n",
      " 18  comp_prim_v2_m            228 non-null    float64\n",
      " 19  comp_lowsec_v2_m          228 non-null    float64\n",
      " 20  comp_upsec_v2_m           228 non-null    float64\n",
      " 21  comp_prim_1524_m          108 non-null    float64\n",
      " 22  comp_lowsec_1524_m        108 non-null    float64\n",
      " 23  comp_upsec_2029_m         101 non-null    float64\n",
      " 24  eduyears_2024_m           24 non-null     float64\n",
      " 25  edu2_2024_m               138 non-null    float64\n",
      " 26  edu4_2024_m               149 non-null    float64\n",
      " 27  eduout_prim_m             185 non-null    float64\n",
      " 28  eduout_lowsec_m           185 non-null    float64\n",
      " 29  eduout_upsec_m            182 non-null    float64\n",
      " 30  comp_prim_v2_no           108 non-null    float64\n",
      " 31  comp_lowsec_v2_no         108 non-null    float64\n",
      " 32  comp_upsec_v2_no          108 non-null    float64\n",
      " 33  comp_prim_1524_no         108 non-null    float64\n",
      " 34  comp_lowsec_1524_no       108 non-null    float64\n",
      " 35  comp_upsec_2029_no        101 non-null    float64\n",
      " 36  eduyears_2024_no          150 non-null    float64\n",
      " 37  edu2_2024_no              138 non-null    float64\n",
      " 38  edu4_2024_no              149 non-null    float64\n",
      " 39  eduout_prim_no            111 non-null    float64\n",
      " 40  eduout_lowsec_no          111 non-null    float64\n",
      " 41  eduout_upsec_no           111 non-null    float64\n",
      " 42  preschool_3_m             37 non-null     float64\n",
      " 43  preschool_3_no            37 non-null     float64\n",
      " 44  preschool_1ybefore_m      44 non-null     float64\n",
      " 45  preschool_1ybefore_no     44 non-null     float64\n",
      " 46  edu0_prim_m               123 non-null    float64\n",
      " 47  edu0_prim_no              123 non-null    float64\n",
      " 48  trans_prim_m              85 non-null     float64\n",
      " 49  trans_prim_no             85 non-null     float64\n",
      " 50  trans_lowsec_m            85 non-null     float64\n",
      " 51  trans_lowsec_no           85 non-null     float64\n",
      " 52  comp_higher_2yrs_2529_m   102 non-null    float64\n",
      " 53  comp_higher_2yrs_2529_no  103 non-null    float64\n",
      " 54  comp_higher_4yrs_2529_m   101 non-null    float64\n",
      " 55  comp_higher_4yrs_2529_no  102 non-null    float64\n",
      " 56  comp_higher_4yrs_3034_m   99 non-null     float64\n",
      " 57  comp_higher_4yrs_3034_no  102 non-null    float64\n",
      " 58  attend_higher_1822_m      123 non-null    float64\n",
      " 59  attend_higher_1822_no     124 non-null    float64\n",
      " 60  overage2plus_m            122 non-null    float64\n",
      " 61  overage2plus_no           123 non-null    float64\n",
      " 62  literacy_1524_m           58 non-null     float64\n",
      " 63  literacy_1524_no          62 non-null     float64\n",
      " 64  mlevel1_m                 79 non-null     float64\n",
      " 65  mlevel1_no                79 non-null     float64\n",
      " 66  rlevel1_m                 70 non-null     float64\n",
      " 67  rlevel1_no                70 non-null     float64\n",
      " 68  slevel1_m                 10 non-null     float64\n",
      " 69  slevel1_no                10 non-null     float64\n",
      " 70  mlevel2_m                 57 non-null     float64\n",
      " 71  mlevel2_no                57 non-null     float64\n",
      " 72  rlevel2_m                 52 non-null     float64\n",
      " 73  rlevel2_no                52 non-null     float64\n",
      " 74  slevel2_m                 10 non-null     float64\n",
      " 75  slevel2_no                10 non-null     float64\n",
      " 76  mlevel3_m                 33 non-null     float64\n",
      " 77  mlevel3_no                33 non-null     float64\n",
      " 78  rlevel3_m                 27 non-null     float64\n",
      " 79  rlevel3_no                27 non-null     float64\n",
      " 80  slevel3_m                 8 non-null      float64\n",
      " 81  slevel3_no                8 non-null      float64\n",
      " 82  mlevel4_m                 5 non-null      float64\n",
      " 83  mlevel4_no                5 non-null      float64\n",
      " 84  rlevel4_m                 4 non-null      float64\n",
      " 85  rlevel4_no                4 non-null      float64\n",
      " 86  slevel4_m                 7 non-null      float64\n",
      " 87  slevel4_no                7 non-null      float64\n",
      "dtypes: float64(70), int64(2), object(16)\n",
      "memory usage: 219.7+ KB\n"
     ]
    }
   ],
   "source": [
    "df_total.info()"
   ]
  },
  {
   "cell_type": "code",
   "execution_count": 21,
   "id": "1d5c75e2",
   "metadata": {},
   "outputs": [],
   "source": [
    "# Drop columns where every entry is NaN (or None)\n",
    "df_total.dropna(axis=1, how='all', inplace=True)\n"
   ]
  },
  {
   "cell_type": "code",
   "execution_count": 22,
   "id": "2227964c",
   "metadata": {},
   "outputs": [
    {
     "name": "stdout",
     "output_type": "stream",
     "text": [
      "<class 'pandas.core.frame.DataFrame'>\n",
      "Index: 316 entries, 280 to 48502\n",
      "Data columns (total 79 columns):\n",
      " #   Column                    Non-Null Count  Dtype  \n",
      "---  ------                    --------------  -----  \n",
      " 0   iso_code                  316 non-null    object \n",
      " 1   region_group              316 non-null    object \n",
      " 2   income_group              316 non-null    object \n",
      " 3   country                   316 non-null    object \n",
      " 4   survey                    316 non-null    object \n",
      " 5   year                      316 non-null    int64  \n",
      " 6   level                     83 non-null     object \n",
      " 7   grade                     316 non-null    int64  \n",
      " 8   category                  316 non-null    object \n",
      " 9   comp_prim_v2_m            228 non-null    float64\n",
      " 10  comp_lowsec_v2_m          228 non-null    float64\n",
      " 11  comp_upsec_v2_m           228 non-null    float64\n",
      " 12  comp_prim_1524_m          108 non-null    float64\n",
      " 13  comp_lowsec_1524_m        108 non-null    float64\n",
      " 14  comp_upsec_2029_m         101 non-null    float64\n",
      " 15  eduyears_2024_m           24 non-null     float64\n",
      " 16  edu2_2024_m               138 non-null    float64\n",
      " 17  edu4_2024_m               149 non-null    float64\n",
      " 18  eduout_prim_m             185 non-null    float64\n",
      " 19  eduout_lowsec_m           185 non-null    float64\n",
      " 20  eduout_upsec_m            182 non-null    float64\n",
      " 21  comp_prim_v2_no           108 non-null    float64\n",
      " 22  comp_lowsec_v2_no         108 non-null    float64\n",
      " 23  comp_upsec_v2_no          108 non-null    float64\n",
      " 24  comp_prim_1524_no         108 non-null    float64\n",
      " 25  comp_lowsec_1524_no       108 non-null    float64\n",
      " 26  comp_upsec_2029_no        101 non-null    float64\n",
      " 27  eduyears_2024_no          150 non-null    float64\n",
      " 28  edu2_2024_no              138 non-null    float64\n",
      " 29  edu4_2024_no              149 non-null    float64\n",
      " 30  eduout_prim_no            111 non-null    float64\n",
      " 31  eduout_lowsec_no          111 non-null    float64\n",
      " 32  eduout_upsec_no           111 non-null    float64\n",
      " 33  preschool_3_m             37 non-null     float64\n",
      " 34  preschool_3_no            37 non-null     float64\n",
      " 35  preschool_1ybefore_m      44 non-null     float64\n",
      " 36  preschool_1ybefore_no     44 non-null     float64\n",
      " 37  edu0_prim_m               123 non-null    float64\n",
      " 38  edu0_prim_no              123 non-null    float64\n",
      " 39  trans_prim_m              85 non-null     float64\n",
      " 40  trans_prim_no             85 non-null     float64\n",
      " 41  trans_lowsec_m            85 non-null     float64\n",
      " 42  trans_lowsec_no           85 non-null     float64\n",
      " 43  comp_higher_2yrs_2529_m   102 non-null    float64\n",
      " 44  comp_higher_2yrs_2529_no  103 non-null    float64\n",
      " 45  comp_higher_4yrs_2529_m   101 non-null    float64\n",
      " 46  comp_higher_4yrs_2529_no  102 non-null    float64\n",
      " 47  comp_higher_4yrs_3034_m   99 non-null     float64\n",
      " 48  comp_higher_4yrs_3034_no  102 non-null    float64\n",
      " 49  attend_higher_1822_m      123 non-null    float64\n",
      " 50  attend_higher_1822_no     124 non-null    float64\n",
      " 51  overage2plus_m            122 non-null    float64\n",
      " 52  overage2plus_no           123 non-null    float64\n",
      " 53  literacy_1524_m           58 non-null     float64\n",
      " 54  literacy_1524_no          62 non-null     float64\n",
      " 55  mlevel1_m                 79 non-null     float64\n",
      " 56  mlevel1_no                79 non-null     float64\n",
      " 57  rlevel1_m                 70 non-null     float64\n",
      " 58  rlevel1_no                70 non-null     float64\n",
      " 59  slevel1_m                 10 non-null     float64\n",
      " 60  slevel1_no                10 non-null     float64\n",
      " 61  mlevel2_m                 57 non-null     float64\n",
      " 62  mlevel2_no                57 non-null     float64\n",
      " 63  rlevel2_m                 52 non-null     float64\n",
      " 64  rlevel2_no                52 non-null     float64\n",
      " 65  slevel2_m                 10 non-null     float64\n",
      " 66  slevel2_no                10 non-null     float64\n",
      " 67  mlevel3_m                 33 non-null     float64\n",
      " 68  mlevel3_no                33 non-null     float64\n",
      " 69  rlevel3_m                 27 non-null     float64\n",
      " 70  rlevel3_no                27 non-null     float64\n",
      " 71  slevel3_m                 8 non-null      float64\n",
      " 72  slevel3_no                8 non-null      float64\n",
      " 73  mlevel4_m                 5 non-null      float64\n",
      " 74  mlevel4_no                5 non-null      float64\n",
      " 75  rlevel4_m                 4 non-null      float64\n",
      " 76  rlevel4_no                4 non-null      float64\n",
      " 77  slevel4_m                 7 non-null      float64\n",
      " 78  slevel4_no                7 non-null      float64\n",
      "dtypes: float64(70), int64(2), object(7)\n",
      "memory usage: 197.5+ KB\n"
     ]
    }
   ],
   "source": [
    "df_total.info()"
   ]
  },
  {
   "cell_type": "code",
   "execution_count": 23,
   "id": "8025215c",
   "metadata": {},
   "outputs": [
    {
     "data": {
      "text/html": [
       "<div>\n",
       "<style scoped>\n",
       "    .dataframe tbody tr th:only-of-type {\n",
       "        vertical-align: middle;\n",
       "    }\n",
       "\n",
       "    .dataframe tbody tr th {\n",
       "        vertical-align: top;\n",
       "    }\n",
       "\n",
       "    .dataframe thead th {\n",
       "        text-align: right;\n",
       "    }\n",
       "</style>\n",
       "<table border=\"1\" class=\"dataframe\">\n",
       "  <thead>\n",
       "    <tr style=\"text-align: right;\">\n",
       "      <th></th>\n",
       "      <th>country</th>\n",
       "      <th>iso_code</th>\n",
       "      <th>survey</th>\n",
       "      <th>literacy_1524_m</th>\n",
       "      <th>comp_prim_v2_m</th>\n",
       "      <th>eduyears_2024_m</th>\n",
       "    </tr>\n",
       "  </thead>\n",
       "  <tbody>\n",
       "    <tr>\n",
       "      <th>0</th>\n",
       "      <td>Angola</td>\n",
       "      <td>AGO</td>\n",
       "      <td>NaN</td>\n",
       "      <td>NaN</td>\n",
       "      <td>0.5987</td>\n",
       "      <td>NaN</td>\n",
       "    </tr>\n",
       "    <tr>\n",
       "      <th>1</th>\n",
       "      <td>Comoros</td>\n",
       "      <td>COM</td>\n",
       "      <td>NaN</td>\n",
       "      <td>NaN</td>\n",
       "      <td>0.4032</td>\n",
       "      <td>NaN</td>\n",
       "    </tr>\n",
       "    <tr>\n",
       "      <th>2</th>\n",
       "      <td>Equat. Guinea</td>\n",
       "      <td>GNQ</td>\n",
       "      <td>NaN</td>\n",
       "      <td>NaN</td>\n",
       "      <td>0.4223</td>\n",
       "      <td>NaN</td>\n",
       "    </tr>\n",
       "    <tr>\n",
       "      <th>3</th>\n",
       "      <td>South Sudan</td>\n",
       "      <td>SSD</td>\n",
       "      <td>NaN</td>\n",
       "      <td>NaN</td>\n",
       "      <td>0.2464</td>\n",
       "      <td>NaN</td>\n",
       "    </tr>\n",
       "    <tr>\n",
       "      <th>4</th>\n",
       "      <td>Eswatini</td>\n",
       "      <td>SWZ</td>\n",
       "      <td>NaN</td>\n",
       "      <td>NaN</td>\n",
       "      <td>0.7023</td>\n",
       "      <td>NaN</td>\n",
       "    </tr>\n",
       "  </tbody>\n",
       "</table>\n",
       "</div>"
      ],
      "text/plain": [
       "         country iso_code  survey  literacy_1524_m  comp_prim_v2_m  \\\n",
       "0         Angola      AGO     NaN              NaN          0.5987   \n",
       "1        Comoros      COM     NaN              NaN          0.4032   \n",
       "2  Equat. Guinea      GNQ     NaN              NaN          0.4223   \n",
       "3    South Sudan      SSD     NaN              NaN          0.2464   \n",
       "4       Eswatini      SWZ     NaN              NaN          0.7023   \n",
       "\n",
       "   eduyears_2024_m  \n",
       "0              NaN  \n",
       "1              NaN  \n",
       "2              NaN  \n",
       "3              NaN  \n",
       "4              NaN  "
      ]
     },
     "execution_count": 23,
     "metadata": {},
     "output_type": "execute_result"
    }
   ],
   "source": [
    "\n",
    "# Convert survey_year to numeric if needed\n",
    "df_total['survey'] = pd.to_numeric(df_total['survey'], errors='coerce')\n",
    "# Convert survey_year to numeric if needed\n",
    "df_total['survey'] = pd.to_numeric(df_total['survey'], errors='coerce')\n",
    "\n",
    "# Keep latest year per country\n",
    "df_latest = df_total.sort_values('survey').groupby('iso_code').tail(1)\n",
    "\n",
    "# Select key indicators\n",
    "indicators = ['literacy_1524_m', 'comp_prim_v2_m', 'eduyears_2024_m']\n",
    "df_selected = df_latest[['country', 'iso_code', 'survey'] + indicators].reset_index(drop=True)\n",
    "df_selected.head()"
   ]
  },
  {
   "cell_type": "code",
   "execution_count": null,
   "id": "2e4acd05",
   "metadata": {},
   "outputs": [],
   "source": [
    "\n",
    "\n"
   ]
  },
  {
   "cell_type": "markdown",
   "id": "71c0aac0",
   "metadata": {},
   "source": [
    "## Exploratory Data Analysis\n",
    "Summary statistics for selected indicators."
   ]
  },
  {
   "cell_type": "code",
   "execution_count": 24,
   "id": "4791e41e",
   "metadata": {},
   "outputs": [
    {
     "data": {
      "text/html": [
       "<div>\n",
       "<style scoped>\n",
       "    .dataframe tbody tr th:only-of-type {\n",
       "        vertical-align: middle;\n",
       "    }\n",
       "\n",
       "    .dataframe tbody tr th {\n",
       "        vertical-align: top;\n",
       "    }\n",
       "\n",
       "    .dataframe thead th {\n",
       "        text-align: right;\n",
       "    }\n",
       "</style>\n",
       "<table border=\"1\" class=\"dataframe\">\n",
       "  <thead>\n",
       "    <tr style=\"text-align: right;\">\n",
       "      <th></th>\n",
       "      <th>literacy_1524_m</th>\n",
       "      <th>comp_prim_v2_m</th>\n",
       "      <th>eduyears_2024_m</th>\n",
       "    </tr>\n",
       "  </thead>\n",
       "  <tbody>\n",
       "    <tr>\n",
       "      <th>count</th>\n",
       "      <td>5.000000</td>\n",
       "      <td>25.000000</td>\n",
       "      <td>8.000000</td>\n",
       "    </tr>\n",
       "    <tr>\n",
       "      <th>mean</th>\n",
       "      <td>0.682640</td>\n",
       "      <td>0.567500</td>\n",
       "      <td>6.112862</td>\n",
       "    </tr>\n",
       "    <tr>\n",
       "      <th>std</th>\n",
       "      <td>0.175918</td>\n",
       "      <td>0.185626</td>\n",
       "      <td>1.923239</td>\n",
       "    </tr>\n",
       "    <tr>\n",
       "      <th>min</th>\n",
       "      <td>0.497300</td>\n",
       "      <td>0.246400</td>\n",
       "      <td>3.170300</td>\n",
       "    </tr>\n",
       "    <tr>\n",
       "      <th>25%</th>\n",
       "      <td>0.533500</td>\n",
       "      <td>0.424000</td>\n",
       "      <td>4.981000</td>\n",
       "    </tr>\n",
       "    <tr>\n",
       "      <th>50%</th>\n",
       "      <td>0.682800</td>\n",
       "      <td>0.553200</td>\n",
       "      <td>6.906300</td>\n",
       "    </tr>\n",
       "    <tr>\n",
       "      <th>75%</th>\n",
       "      <td>0.774600</td>\n",
       "      <td>0.731400</td>\n",
       "      <td>7.424350</td>\n",
       "    </tr>\n",
       "    <tr>\n",
       "      <th>max</th>\n",
       "      <td>0.925000</td>\n",
       "      <td>0.932700</td>\n",
       "      <td>8.085800</td>\n",
       "    </tr>\n",
       "  </tbody>\n",
       "</table>\n",
       "</div>"
      ],
      "text/plain": [
       "       literacy_1524_m  comp_prim_v2_m  eduyears_2024_m\n",
       "count         5.000000       25.000000         8.000000\n",
       "mean          0.682640        0.567500         6.112862\n",
       "std           0.175918        0.185626         1.923239\n",
       "min           0.497300        0.246400         3.170300\n",
       "25%           0.533500        0.424000         4.981000\n",
       "50%           0.682800        0.553200         6.906300\n",
       "75%           0.774600        0.731400         7.424350\n",
       "max           0.925000        0.932700         8.085800"
      ]
     },
     "execution_count": 24,
     "metadata": {},
     "output_type": "execute_result"
    }
   ],
   "source": [
    "# Summary statistics\n",
    "df_selected[indicators].describe()"
   ]
  },
  {
   "cell_type": "code",
   "execution_count": 25,
   "id": "aa6d7989",
   "metadata": {},
   "outputs": [
    {
     "data": {
      "image/png": "[encoded data removed]",
      "text/plain": [
       "<Figure size 1200x500 with 2 Axes>"
      ]
     },
     "metadata": {},
     "output_type": "display_data"
    },
    {
     "data": {
      "image/png": "[encoded data removed]",
      "text/plain": [
       "<Figure size 800x500 with 1 Axes>"
      ]
     },
     "metadata": {},
     "output_type": "display_data"
    }
   ],
   "source": [
    "# Histograms\n",
    "fig, axes = plt.subplots(1, 2, figsize=(12, 5))\n",
    "axes[0].hist(df_selected['literacy_1524_m'].dropna(), bins=20)\n",
    "axes[0].set_title('Youth Literacy Rate Distribution')\n",
    "axes[0].set_xlabel('Literacy Rate')\n",
    "axes[0].set_ylabel('Number of Countries')\n",
    "\n",
    "axes[1].hist(df_selected['comp_prim_v2_m'].dropna(), bins=20)\n",
    "axes[1].set_title('Primary Completion Rate Distribution')\n",
    "axes[1].set_xlabel('Completion Rate')\n",
    "axes[1].set_ylabel('Number of Countries')\n",
    "\n",
    "plt.tight_layout()\n",
    "plt.show()\n",
    "\n",
    "# Boxplot by income group if available\n",
    "if 'income_group' in df_latest.columns:\n",
    "    fig, ax = plt.subplots(figsize=(8, 5))\n",
    "    df_latest.boxplot(column='comp_prim_v2_m', by='income_group', ax=ax)\n",
    "    ax.set_title('Primary Completion by Income Group')\n",
    "    ax.set_xlabel('Income Group')\n",
    "    ax.set_ylabel('Completion Rate')\n",
    "    plt.suptitle('')\n",
    "    plt.show()"
   ]
  },
  {
   "cell_type": "markdown",
   "id": "51a6cdf9",
   "metadata": {},
   "source": [
    "## Geospatial Visualization\n",
    "Choropleth maps for literacy and primary completion rates."
   ]
  },
  {
   "cell_type": "code",
   "execution_count": 26,
   "id": "02ac4f80",
   "metadata": {},
   "outputs": [
    {
     "data": {
      "application/vnd.plotly.v1+json": {
       "config": {
        "plotlyServerURL": "https://plot.ly"
       },
       "data": [
        {
         "coloraxis": "coloraxis",
         "geo": "geo",
         "hovertemplate": "<b>%{hovertext}</b><br><br>iso_code=%{location}<br>Youth Literacy Rate=%{z}<extra></extra>",
         "hovertext": [
          "Angola",
          "Comoros",
          "Equat. Guinea",
          "South Sudan",
          "Eswatini",
          "Somalia",
          "Mozambique",
          "Namibia",
          "Burundi",
          "Cameroon",
          "Gabon",
          "Guinea",
          "Burkina Faso",
          "Botswana",
          "Côte d'Ivoire",
          "Congo",
          "Djibouti",
          "Ethiopia",
          "Kenya",
          "Liberia",
          "Lesotho",
          "Mauritania",
          "Malawi",
          "Nigeria",
          "Rwanda",
          "Senegal",
          "U. R. Tanzania",
          "Zambia",
          "Mali",
          "Benin",
          "Niger",
          "Uganda",
          "C. A. R.",
          "D. R. Congo",
          "Ghana",
          "Gambia",
          "Guinea-Bissau",
          "Madagascar",
          "Sierra Leone",
          "S. Tome/Principe",
          "Chad",
          "Togo",
          "Zimbabwe",
          "South Africa"
         ],
         "locations": [
          "AGO",
          "COM",
          "GNQ",
          "SSD",
          "SWZ",
          "SOM",
          "MOZ",
          "NAM",
          "BDI",
          "CMR",
          "GAB",
          "GIN",
          "BFA",
          "BWA",
          "CIV",
          "COG",
          "DJI",
          "ETH",
          "KEN",
          "LBR",
          "LSO",
          "MRT",
          "MWI",
          "NGA",
          "RWA",
          "SEN",
          "TZA",
          "ZMB",
          "MLI",
          "BEN",
          "NER",
          "UGA",
          "CAF",
          "COD",
          "GHA",
          "GMB",
          "GNB",
          "MDG",
          "SLE",
          "STP",
          "TCD",
          "TGO",
          "ZWE",
          "ZAF"
         ],
         "name": "",
         "type": "choropleth",
         "z": {
          "bdata": "AAAAAAAA+H8AAAAAAAD4fwAAAAAAAPh/AAAAAAAA+H8AAAAAAAD4fwAAAAAAAPh/AAAAAAAA+H8AAAAAAAD4fwAAAAAAAPh/AAAAAAAA+H8AAAAAAAD4fwAAAAAAAPh/AAAAAAAA+H8AAAAAAAD4fwAAAAAAAPh/AAAAAAAA+H8AAAAAAAD4fwAAAAAAAPh/AAAAAAAA+H/+////hcnoPwAAAAAAAPh/AAAAAAAA+H8BAABgw9PfPwAAAAAAAPh/AAAAoJmZ7T////9ff9nlPwAAAAAAAPh/AAAAAAAA+H/+//+fbhLhPwAAAAAAAPh/AAAAAAAA+H8AAAAAAAD4fwAAAAAAAPh/AAAAAAAA+H8AAAAAAAD4fwAAAAAAAPh/AAAAAAAA+H8AAAAAAAD4fwAAAAAAAPh/AAAAAAAA+H8AAAAAAAD4fwAAAAAAAPh/AAAAAAAA+H8AAAAAAAD4fw==",
          "dtype": "f8"
         }
        }
       ],
       "layout": {
        "coloraxis": {
         "colorbar": {
          "title": {
           "text": "Youth Literacy Rate"
          }
         },
         "colorscale": [
          [
           0,
           "#440154"
          ],
          [
           0.1111111111111111,
           "#482878"
          ],
          [
           0.2222222222222222,
           "#3e4989"
          ],
          [
           0.3333333333333333,
           "#31688e"
          ],
          [
           0.4444444444444444,
           "#26828e"
          ],
          [
           0.5555555555555556,
           "#1f9e89"
          ],
          [
           0.6666666666666666,
           "#35b779"
          ],
          [
           0.7777777777777778,
           "#6ece58"
          ],
          [
           0.8888888888888888,
           "#b5de2b"
          ],
          [
           1,
           "#fde725"
          ]
         ]
        },
        "geo": {
         "center": {},
         "domain": {
          "x": [
           0,
           1
          ],
          "y": [
           0,
           1
          ]
         },
         "scope": "africa"
        },
        "legend": {
         "tracegroupgap": 0
        },
        "margin": {
         "t": 60
        },
        "template": {
         "data": {
          "bar": [
           {
            "error_x": {
             "color": "#2a3f5f"
            },
            "error_y": {
             "color": "#2a3f5f"
            },
            "marker": {
             "line": {
              "color": "#E5ECF6",
              "width": 0.5
             },
             "pattern": {
              "fillmode": "overlay",
              "size": 10,
              "solidity": 0.2
             }
            },
            "type": "bar"
           }
          ],
          "barpolar": [
           {
            "marker": {
             "line": {
              "color": "#E5ECF6",
              "width": 0.5
             },
             "pattern": {
              "fillmode": "overlay",
              "size": 10,
              "solidity": 0.2
             }
            },
            "type": "barpolar"
           }
          ],
          "carpet": [
           {
            "aaxis": {
             "endlinecolor": "#2a3f5f",
             "gridcolor": "white",
             "linecolor": "white",
             "minorgridcolor": "white",
             "startlinecolor": "#2a3f5f"
            },
            "baxis": {
             "endlinecolor": "#2a3f5f",
             "gridcolor": "white",
             "linecolor": "white",
             "minorgridcolor": "white",
             "startlinecolor": "#2a3f5f"
            },
            "type": "carpet"
           }
          ],
          "choropleth": [
           {
            "colorbar": {
             "outlinewidth": 0,
             "ticks": ""
            },
            "type": "choropleth"
           }
          ],
          "contour": [
           {
            "colorbar": {
             "outlinewidth": 0,
             "ticks": ""
            },
            "colorscale": [
             [
              0,
              "#0d0887"
             ],
             [
              0.1111111111111111,
              "#46039f"
             ],
             [
              0.2222222222222222,
              "#7201a8"
             ],
             [
              0.3333333333333333,
              "#9c179e"
             ],
             [
              0.4444444444444444,
              "#bd3786"
             ],
             [
              0.5555555555555556,
              "#d8576b"
             ],
             [
              0.6666666666666666,
              "#ed7953"
             ],
             [
              0.7777777777777778,
              "#fb9f3a"
             ],
             [
              0.8888888888888888,
              "#fdca26"
             ],
             [
              1,
              "#f0f921"
             ]
            ],
            "type": "contour"
           }
          ],
          "contourcarpet": [
           {
            "colorbar": {
             "outlinewidth": 0,
             "ticks": ""
            },
            "type": "contourcarpet"
           }
          ],
          "heatmap": [
           {
            "colorbar": {
             "outlinewidth": 0,
             "ticks": ""
            },
            "colorscale": [
             [
              0,
              "#0d0887"
             ],
             [
              0.1111111111111111,
              "#46039f"
             ],
             [
              0.2222222222222222,
              "#7201a8"
             ],
             [
              0.3333333333333333,
              "#9c179e"
             ],
             [
              0.4444444444444444,
              "#bd3786"
             ],
             [
              0.5555555555555556,
              "#d8576b"
             ],
             [
              0.6666666666666666,
              "#ed7953"
             ],
             [
              0.7777777777777778,
              "#fb9f3a"
             ],
             [
              0.8888888888888888,
              "#fdca26"
             ],
             [
              1,
              "#f0f921"
             ]
            ],
            "type": "heatmap"
           }
          ],
          "histogram": [
           {
            "marker": {
             "pattern": {
              "fillmode": "overlay",
              "size": 10,
              "solidity": 0.2
             }
            },
            "type": "histogram"
           }
          ],
          "histogram2d": [
           {
            "colorbar": {
             "outlinewidth": 0,
             "ticks": ""
            },
            "colorscale": [
             [
              0,
              "#0d0887"
             ],
             [
              0.1111111111111111,
              "#46039f"
             ],
             [
              0.2222222222222222,
              "#7201a8"
             ],
             [
              0.3333333333333333,
              "#9c179e"
             ],
             [
              0.4444444444444444,
              "#bd3786"
             ],
             [
              0.5555555555555556,
              "#d8576b"
             ],
             [
              0.6666666666666666,
              "#ed7953"
             ],
             [
              0.7777777777777778,
              "#fb9f3a"
             ],
             [
              0.8888888888888888,
              "#fdca26"
             ],
             [
              1,
              "#f0f921"
             ]
            ],
            "type": "histogram2d"
           }
          ],
          "histogram2dcontour": [
           {
            "colorbar": {
             "outlinewidth": 0,
             "ticks": ""
            },
            "colorscale": [
             [
              0,
              "#0d0887"
             ],
             [
              0.1111111111111111,
              "#46039f"
             ],
             [
              0.2222222222222222,
              "#7201a8"
             ],
             [
              0.3333333333333333,
              "#9c179e"
             ],
             [
              0.4444444444444444,
              "#bd3786"
             ],
             [
              0.5555555555555556,
              "#d8576b"
             ],
             [
              0.6666666666666666,
              "#ed7953"
             ],
             [
              0.7777777777777778,
              "#fb9f3a"
             ],
             [
              0.8888888888888888,
              "#fdca26"
             ],
             [
              1,
              "#f0f921"
             ]
            ],
            "type": "histogram2dcontour"
           }
          ],
          "mesh3d": [
           {
            "colorbar": {
             "outlinewidth": 0,
             "ticks": ""
            },
            "type": "mesh3d"
           }
          ],
          "parcoords": [
           {
            "line": {
             "colorbar": {
              "outlinewidth": 0,
              "ticks": ""
             }
            },
            "type": "parcoords"
           }
          ],
          "pie": [
           {
            "automargin": true,
            "type": "pie"
           }
          ],
          "scatter": [
           {
            "fillpattern": {
             "fillmode": "overlay",
             "size": 10,
             "solidity": 0.2
            },
            "type": "scatter"
           }
          ],
          "scatter3d": [
           {
            "line": {
             "colorbar": {
              "outlinewidth": 0,
              "ticks": ""
             }
            },
            "marker": {
             "colorbar": {
              "outlinewidth": 0,
              "ticks": ""
             }
            },
            "type": "scatter3d"
           }
          ],
          "scattercarpet": [
           {
            "marker": {
             "colorbar": {
              "outlinewidth": 0,
              "ticks": ""
             }
            },
            "type": "scattercarpet"
           }
          ],
          "scattergeo": [
           {
            "marker": {
             "colorbar": {
              "outlinewidth": 0,
              "ticks": ""
             }
            },
            "type": "scattergeo"
           }
          ],
          "scattergl": [
           {
            "marker": {
             "colorbar": {
              "outlinewidth": 0,
              "ticks": ""
             }
            },
            "type": "scattergl"
           }
          ],
          "scattermap": [
           {
            "marker": {
             "colorbar": {
              "outlinewidth": 0,
              "ticks": ""
             }
            },
            "type": "scattermap"
           }
          ],
          "scattermapbox": [
           {
            "marker": {
             "colorbar": {
              "outlinewidth": 0,
              "ticks": ""
             }
            },
            "type": "scattermapbox"
           }
          ],
          "scatterpolar": [
           {
            "marker": {
             "colorbar": {
              "outlinewidth": 0,
              "ticks": ""
             }
            },
            "type": "scatterpolar"
           }
          ],
          "scatterpolargl": [
           {
            "marker": {
             "colorbar": {
              "outlinewidth": 0,
              "ticks": ""
             }
            },
            "type": "scatterpolargl"
           }
          ],
          "scatterternary": [
           {
            "marker": {
             "colorbar": {
              "outlinewidth": 0,
              "ticks": ""
             }
            },
            "type": "scatterternary"
           }
          ],
          "surface": [
           {
            "colorbar": {
             "outlinewidth": 0,
             "ticks": ""
            },
            "colorscale": [
             [
              0,
              "#0d0887"
             ],
             [
              0.1111111111111111,
              "#46039f"
             ],
             [
              0.2222222222222222,
              "#7201a8"
             ],
             [
              0.3333333333333333,
              "#9c179e"
             ],
             [
              0.4444444444444444,
              "#bd3786"
             ],
             [
              0.5555555555555556,
              "#d8576b"
             ],
             [
              0.6666666666666666,
              "#ed7953"
             ],
             [
              0.7777777777777778,
              "#fb9f3a"
             ],
             [
              0.8888888888888888,
              "#fdca26"
             ],
             [
              1,
              "#f0f921"
             ]
            ],
            "type": "surface"
           }
          ],
          "table": [
           {
            "cells": {
             "fill": {
              "color": "#EBF0F8"
             },
             "line": {
              "color": "white"
             }
            },
            "header": {
             "fill": {
              "color": "#C8D4E3"
             },
             "line": {
              "color": "white"
             }
            },
            "type": "table"
           }
          ]
         },
         "layout": {
          "annotationdefaults": {
           "arrowcolor": "#2a3f5f",
           "arrowhead": 0,
           "arrowwidth": 1
          },
          "autotypenumbers": "strict",
          "coloraxis": {
           "colorbar": {
            "outlinewidth": 0,
            "ticks": ""
           }
          },
          "colorscale": {
           "diverging": [
            [
             0,
             "#8e0152"
            ],
            [
             0.1,
             "#c51b7d"
            ],
            [
             0.2,
             "#de77ae"
            ],
            [
             0.3,
             "#f1b6da"
            ],
            [
             0.4,
             "#fde0ef"
            ],
            [
             0.5,
             "#f7f7f7"
            ],
            [
             0.6,
             "#e6f5d0"
            ],
            [
             0.7,
             "#b8e186"
            ],
            [
             0.8,
             "#7fbc41"
            ],
            [
             0.9,
             "#4d9221"
            ],
            [
             1,
             "#276419"
            ]
           ],
           "sequential": [
            [
             0,
             "#0d0887"
            ],
            [
             0.1111111111111111,
             "#46039f"
            ],
            [
             0.2222222222222222,
             "#7201a8"
            ],
            [
             0.3333333333333333,
             "#9c179e"
            ],
            [
             0.4444444444444444,
             "#bd3786"
            ],
            [
             0.5555555555555556,
             "#d8576b"
            ],
            [
             0.6666666666666666,
             "#ed7953"
            ],
            [
             0.7777777777777778,
             "#fb9f3a"
            ],
            [
             0.8888888888888888,
             "#fdca26"
            ],
            [
             1,
             "#f0f921"
            ]
           ],
           "sequentialminus": [
            [
             0,
             "#0d0887"
            ],
            [
             0.1111111111111111,
             "#46039f"
            ],
            [
             0.2222222222222222,
             "#7201a8"
            ],
            [
             0.3333333333333333,
             "#9c179e"
            ],
            [
             0.4444444444444444,
             "#bd3786"
            ],
            [
             0.5555555555555556,
             "#d8576b"
            ],
            [
             0.6666666666666666,
             "#ed7953"
            ],
            [
             0.7777777777777778,
             "#fb9f3a"
            ],
            [
             0.8888888888888888,
             "#fdca26"
            ],
            [
             1,
             "#f0f921"
            ]
           ]
          },
          "colorway": [
           "#636efa",
           "#EF553B",
           "#00cc96",
           "#ab63fa",
           "#FFA15A",
           "#19d3f3",
           "#FF6692",
           "#B6E880",
           "#FF97FF",
           "#FECB52"
          ],
          "font": {
           "color": "#2a3f5f"
          },
          "geo": {
           "bgcolor": "white",
           "lakecolor": "white",
           "landcolor": "#E5ECF6",
           "showlakes": true,
           "showland": true,
           "subunitcolor": "white"
          },
          "hoverlabel": {
           "align": "left"
          },
          "hovermode": "closest",
          "mapbox": {
           "style": "light"
          },
          "paper_bgcolor": "white",
          "plot_bgcolor": "#E5ECF6",
          "polar": {
           "angularaxis": {
            "gridcolor": "white",
            "linecolor": "white",
            "ticks": ""
           },
           "bgcolor": "#E5ECF6",
           "radialaxis": {
            "gridcolor": "white",
            "linecolor": "white",
            "ticks": ""
           }
          },
          "scene": {
           "xaxis": {
            "backgroundcolor": "#E5ECF6",
            "gridcolor": "white",
            "gridwidth": 2,
            "linecolor": "white",
            "showbackground": true,
            "ticks": "",
            "zerolinecolor": "white"
           },
           "yaxis": {
            "backgroundcolor": "#E5ECF6",
            "gridcolor": "white",
            "gridwidth": 2,
            "linecolor": "white",
            "showbackground": true,
            "ticks": "",
            "zerolinecolor": "white"
           },
           "zaxis": {
            "backgroundcolor": "#E5ECF6",
            "gridcolor": "white",
            "gridwidth": 2,
            "linecolor": "white",
            "showbackground": true,
            "ticks": "",
            "zerolinecolor": "white"
           }
          },
          "shapedefaults": {
           "line": {
            "color": "#2a3f5f"
           }
          },
          "ternary": {
           "aaxis": {
            "gridcolor": "white",
            "linecolor": "white",
            "ticks": ""
           },
           "baxis": {
            "gridcolor": "white",
            "linecolor": "white",
            "ticks": ""
           },
           "bgcolor": "#E5ECF6",
           "caxis": {
            "gridcolor": "white",
            "linecolor": "white",
            "ticks": ""
           }
          },
          "title": {
           "x": 0.05
          },
          "xaxis": {
           "automargin": true,
           "gridcolor": "white",
           "linecolor": "white",
           "ticks": "",
           "title": {
            "standoff": 15
           },
           "zerolinecolor": "white",
           "zerolinewidth": 2
          },
          "yaxis": {
           "automargin": true,
           "gridcolor": "white",
           "linecolor": "white",
           "ticks": "",
           "title": {
            "standoff": 15
           },
           "zerolinecolor": "white",
           "zerolinewidth": 2
          }
         }
        },
        "title": {
         "text": "Youth Literacy Rate (15-24) by Country"
        }
       }
      }
     },
     "metadata": {},
     "output_type": "display_data"
    },
    {
     "data": {
      "application/vnd.plotly.v1+json": {
       "config": {
        "plotlyServerURL": "https://plot.ly"
       },
       "data": [
        {
         "coloraxis": "coloraxis",
         "geo": "geo",
         "hovertemplate": "<b>%{hovertext}</b><br><br>iso_code=%{location}<br>Primary Completion Rate=%{z}<extra></extra>",
         "hovertext": [
          "Angola",
          "Comoros",
          "Equat. Guinea",
          "South Sudan",
          "Eswatini",
          "Somalia",
          "Mozambique",
          "Namibia",
          "Burundi",
          "Cameroon",
          "Gabon",
          "Guinea",
          "Burkina Faso",
          "Botswana",
          "Côte d'Ivoire",
          "Congo",
          "Djibouti",
          "Ethiopia",
          "Kenya",
          "Liberia",
          "Lesotho",
          "Mauritania",
          "Malawi",
          "Nigeria",
          "Rwanda",
          "Senegal",
          "U. R. Tanzania",
          "Zambia",
          "Mali",
          "Benin",
          "Niger",
          "Uganda",
          "C. A. R.",
          "D. R. Congo",
          "Ghana",
          "Gambia",
          "Guinea-Bissau",
          "Madagascar",
          "Sierra Leone",
          "S. Tome/Principe",
          "Chad",
          "Togo",
          "Zimbabwe",
          "South Africa"
         ],
         "locations": [
          "AGO",
          "COM",
          "GNQ",
          "SSD",
          "SWZ",
          "SOM",
          "MOZ",
          "NAM",
          "BDI",
          "CMR",
          "GAB",
          "GIN",
          "BFA",
          "BWA",
          "CIV",
          "COG",
          "DJI",
          "ETH",
          "KEN",
          "LBR",
          "LSO",
          "MRT",
          "MWI",
          "NGA",
          "RWA",
          "SEN",
          "TZA",
          "ZMB",
          "MLI",
          "BEN",
          "NER",
          "UGA",
          "CAF",
          "COD",
          "GHA",
          "GMB",
          "GNB",
          "MDG",
          "SLE",
          "STP",
          "TCD",
          "TGO",
          "ZWE",
          "ZAF"
         ],
         "name": "",
         "type": "choropleth",
         "z": {
          "bdata": "AQAA4Iwo4z8CAABgB87ZPwEAAKD2Bts/AgAAAAmKzz8CAADgPXnmP/r//1/uWto/AwAA4NAi2z8DAAAAiPTrPwAAAAAAAPh/AAAAAAAA+H8AAAAAAAD4fwAAAAAAAPh/AAAAAAAA+H8AAACgrdjtP/z//79JDOI/AgAAQBrA5z8EAAAgyeXpPwEAACDZzuE//f//P3DO6D8CAAAACYrTP/j//99W7N8/AAAAAAAA+H/5//+f3ZPfPwMAAAChZ+c/AAAAwH0d5D8BAABAvVLePwAAAAAAAPh//f//f9Cz4T////+/Qq3dPwMAAICDL+g/////P6+U4T8EAABAz2bRPwAAAAAAAPh/AAAAAAAA+H8AAAAAAAD4fwAAAAAAAPh/AAAAAAAA+H8AAAAAAAD4fwAAAAAAAPh/AAAAAAAA+H8AAAAAAAD4fwAAAAAAAPh/AAAAAAAA+H8AAAAAAAD4fw==",
          "dtype": "f8"
         }
        }
       ],
       "layout": {
        "coloraxis": {
         "colorbar": {
          "title": {
           "text": "Primary Completion Rate"
          }
         },
         "colorscale": [
          [
           0,
           "#440154"
          ],
          [
           0.1111111111111111,
           "#482878"
          ],
          [
           0.2222222222222222,
           "#3e4989"
          ],
          [
           0.3333333333333333,
           "#31688e"
          ],
          [
           0.4444444444444444,
           "#26828e"
          ],
          [
           0.5555555555555556,
           "#1f9e89"
          ],
          [
           0.6666666666666666,
           "#35b779"
          ],
          [
           0.7777777777777778,
           "#6ece58"
          ],
          [
           0.8888888888888888,
           "#b5de2b"
          ],
          [
           1,
           "#fde725"
          ]
         ]
        },
        "geo": {
         "center": {},
         "domain": {
          "x": [
           0,
           1
          ],
          "y": [
           0,
           1
          ]
         },
         "scope": "africa"
        },
        "legend": {
         "tracegroupgap": 0
        },
        "margin": {
         "t": 60
        },
        "template": {
         "data": {
          "bar": [
           {
            "error_x": {
             "color": "#2a3f5f"
            },
            "error_y": {
             "color": "#2a3f5f"
            },
            "marker": {
             "line": {
              "color": "#E5ECF6",
              "width": 0.5
             },
             "pattern": {
              "fillmode": "overlay",
              "size": 10,
              "solidity": 0.2
             }
            },
            "type": "bar"
           }
          ],
          "barpolar": [
           {
            "marker": {
             "line": {
              "color": "#E5ECF6",
              "width": 0.5
             },
             "pattern": {
              "fillmode": "overlay",
              "size": 10,
              "solidity": 0.2
             }
            },
            "type": "barpolar"
           }
          ],
          "carpet": [
           {
            "aaxis": {
             "endlinecolor": "#2a3f5f",
             "gridcolor": "white",
             "linecolor": "white",
             "minorgridcolor": "white",
             "startlinecolor": "#2a3f5f"
            },
            "baxis": {
             "endlinecolor": "#2a3f5f",
             "gridcolor": "white",
             "linecolor": "white",
             "minorgridcolor": "white",
             "startlinecolor": "#2a3f5f"
            },
            "type": "carpet"
           }
          ],
          "choropleth": [
           {
            "colorbar": {
             "outlinewidth": 0,
             "ticks": ""
            },
            "type": "choropleth"
           }
          ],
          "contour": [
           {
            "colorbar": {
             "outlinewidth": 0,
             "ticks": ""
            },
            "colorscale": [
             [
              0,
              "#0d0887"
             ],
             [
              0.1111111111111111,
              "#46039f"
             ],
             [
              0.2222222222222222,
              "#7201a8"
             ],
             [
              0.3333333333333333,
              "#9c179e"
             ],
             [
              0.4444444444444444,
              "#bd3786"
             ],
             [
              0.5555555555555556,
              "#d8576b"
             ],
             [
              0.6666666666666666,
              "#ed7953"
             ],
             [
              0.7777777777777778,
              "#fb9f3a"
             ],
             [
              0.8888888888888888,
              "#fdca26"
             ],
             [
              1,
              "#f0f921"
             ]
            ],
            "type": "contour"
           }
          ],
          "contourcarpet": [
           {
            "colorbar": {
             "outlinewidth": 0,
             "ticks": ""
            },
            "type": "contourcarpet"
           }
          ],
          "heatmap": [
           {
            "colorbar": {
             "outlinewidth": 0,
             "ticks": ""
            },
            "colorscale": [
             [
              0,
              "#0d0887"
             ],
             [
              0.1111111111111111,
              "#46039f"
             ],
             [
              0.2222222222222222,
              "#7201a8"
             ],
             [
              0.3333333333333333,
              "#9c179e"
             ],
             [
              0.4444444444444444,
              "#bd3786"
             ],
             [
              0.5555555555555556,
              "#d8576b"
             ],
             [
              0.6666666666666666,
              "#ed7953"
             ],
             [
              0.7777777777777778,
              "#fb9f3a"
             ],
             [
              0.8888888888888888,
              "#fdca26"
             ],
             [
              1,
              "#f0f921"
             ]
            ],
            "type": "heatmap"
           }
          ],
          "histogram": [
           {
            "marker": {
             "pattern": {
              "fillmode": "overlay",
              "size": 10,
              "solidity": 0.2
             }
            },
            "type": "histogram"
           }
          ],
          "histogram2d": [
           {
            "colorbar": {
             "outlinewidth": 0,
             "ticks": ""
            },
            "colorscale": [
             [
              0,
              "#0d0887"
             ],
             [
              0.1111111111111111,
              "#46039f"
             ],
             [
              0.2222222222222222,
              "#7201a8"
             ],
             [
              0.3333333333333333,
              "#9c179e"
             ],
             [
              0.4444444444444444,
              "#bd3786"
             ],
             [
              0.5555555555555556,
              "#d8576b"
             ],
             [
              0.6666666666666666,
              "#ed7953"
             ],
             [
              0.7777777777777778,
              "#fb9f3a"
             ],
             [
              0.8888888888888888,
              "#fdca26"
             ],
             [
              1,
              "#f0f921"
             ]
            ],
            "type": "histogram2d"
           }
          ],
          "histogram2dcontour": [
           {
            "colorbar": {
             "outlinewidth": 0,
             "ticks": ""
            },
            "colorscale": [
             [
              0,
              "#0d0887"
             ],
             [
              0.1111111111111111,
              "#46039f"
             ],
             [
              0.2222222222222222,
              "#7201a8"
             ],
             [
              0.3333333333333333,
              "#9c179e"
             ],
             [
              0.4444444444444444,
              "#bd3786"
             ],
             [
              0.5555555555555556,
              "#d8576b"
             ],
             [
              0.6666666666666666,
              "#ed7953"
             ],
             [
              0.7777777777777778,
              "#fb9f3a"
             ],
             [
              0.8888888888888888,
              "#fdca26"
             ],
             [
              1,
              "#f0f921"
             ]
            ],
            "type": "histogram2dcontour"
           }
          ],
          "mesh3d": [
           {
            "colorbar": {
             "outlinewidth": 0,
             "ticks": ""
            },
            "type": "mesh3d"
           }
          ],
          "parcoords": [
           {
            "line": {
             "colorbar": {
              "outlinewidth": 0,
              "ticks": ""
             }
            },
            "type": "parcoords"
           }
          ],
          "pie": [
           {
            "automargin": true,
            "type": "pie"
           }
          ],
          "scatter": [
           {
            "fillpattern": {
             "fillmode": "overlay",
             "size": 10,
             "solidity": 0.2
            },
            "type": "scatter"
           }
          ],
          "scatter3d": [
           {
            "line": {
             "colorbar": {
              "outlinewidth": 0,
              "ticks": ""
             }
            },
            "marker": {
             "colorbar": {
              "outlinewidth": 0,
              "ticks": ""
             }
            },
            "type": "scatter3d"
           }
          ],
          "scattercarpet": [
           {
            "marker": {
             "colorbar": {
              "outlinewidth": 0,
              "ticks": ""
             }
            },
            "type": "scattercarpet"
           }
          ],
          "scattergeo": [
           {
            "marker": {
             "colorbar": {
              "outlinewidth": 0,
              "ticks": ""
             }
            },
            "type": "scattergeo"
           }
          ],
          "scattergl": [
           {
            "marker": {
             "colorbar": {
              "outlinewidth": 0,
              "ticks": ""
             }
            },
            "type": "scattergl"
           }
          ],
          "scattermap": [
           {
            "marker": {
             "colorbar": {
              "outlinewidth": 0,
              "ticks": ""
             }
            },
            "type": "scattermap"
           }
          ],
          "scattermapbox": [
           {
            "marker": {
             "colorbar": {
              "outlinewidth": 0,
              "ticks": ""
             }
            },
            "type": "scattermapbox"
           }
          ],
          "scatterpolar": [
           {
            "marker": {
             "colorbar": {
              "outlinewidth": 0,
              "ticks": ""
             }
            },
            "type": "scatterpolar"
           }
          ],
          "scatterpolargl": [
           {
            "marker": {
             "colorbar": {
              "outlinewidth": 0,
              "ticks": ""
             }
            },
            "type": "scatterpolargl"
           }
          ],
          "scatterternary": [
           {
            "marker": {
             "colorbar": {
              "outlinewidth": 0,
              "ticks": ""
             }
            },
            "type": "scatterternary"
           }
          ],
          "surface": [
           {
            "colorbar": {
             "outlinewidth": 0,
             "ticks": ""
            },
            "colorscale": [
             [
              0,
              "#0d0887"
             ],
             [
              0.1111111111111111,
              "#46039f"
             ],
             [
              0.2222222222222222,
              "#7201a8"
             ],
             [
              0.3333333333333333,
              "#9c179e"
             ],
             [
              0.4444444444444444,
              "#bd3786"
             ],
             [
              0.5555555555555556,
              "#d8576b"
             ],
             [
              0.6666666666666666,
              "#ed7953"
             ],
             [
              0.7777777777777778,
              "#fb9f3a"
             ],
             [
              0.8888888888888888,
              "#fdca26"
             ],
             [
              1,
              "#f0f921"
             ]
            ],
            "type": "surface"
           }
          ],
          "table": [
           {
            "cells": {
             "fill": {
              "color": "#EBF0F8"
             },
             "line": {
              "color": "white"
             }
            },
            "header": {
             "fill": {
              "color": "#C8D4E3"
             },
             "line": {
              "color": "white"
             }
            },
            "type": "table"
           }
          ]
         },
         "layout": {
          "annotationdefaults": {
           "arrowcolor": "#2a3f5f",
           "arrowhead": 0,
           "arrowwidth": 1
          },
          "autotypenumbers": "strict",
          "coloraxis": {
           "colorbar": {
            "outlinewidth": 0,
            "ticks": ""
           }
          },
          "colorscale": {
           "diverging": [
            [
             0,
             "#8e0152"
            ],
            [
             0.1,
             "#c51b7d"
            ],
            [
             0.2,
             "#de77ae"
            ],
            [
             0.3,
             "#f1b6da"
            ],
            [
             0.4,
             "#fde0ef"
            ],
            [
             0.5,
             "#f7f7f7"
            ],
            [
             0.6,
             "#e6f5d0"
            ],
            [
             0.7,
             "#b8e186"
            ],
            [
             0.8,
             "#7fbc41"
            ],
            [
             0.9,
             "#4d9221"
            ],
            [
             1,
             "#276419"
            ]
           ],
           "sequential": [
            [
             0,
             "#0d0887"
            ],
            [
             0.1111111111111111,
             "#46039f"
            ],
            [
             0.2222222222222222,
             "#7201a8"
            ],
            [
             0.3333333333333333,
             "#9c179e"
            ],
            [
             0.4444444444444444,
             "#bd3786"
            ],
            [
             0.5555555555555556,
             "#d8576b"
            ],
            [
             0.6666666666666666,
             "#ed7953"
            ],
            [
             0.7777777777777778,
             "#fb9f3a"
            ],
            [
             0.8888888888888888,
             "#fdca26"
            ],
            [
             1,
             "#f0f921"
            ]
           ],
           "sequentialminus": [
            [
             0,
             "#0d0887"
            ],
            [
             0.1111111111111111,
             "#46039f"
            ],
            [
             0.2222222222222222,
             "#7201a8"
            ],
            [
             0.3333333333333333,
             "#9c179e"
            ],
            [
             0.4444444444444444,
             "#bd3786"
            ],
            [
             0.5555555555555556,
             "#d8576b"
            ],
            [
             0.6666666666666666,
             "#ed7953"
            ],
            [
             0.7777777777777778,
             "#fb9f3a"
            ],
            [
             0.8888888888888888,
             "#fdca26"
            ],
            [
             1,
             "#f0f921"
            ]
           ]
          },
          "colorway": [
           "#636efa",
           "#EF553B",
           "#00cc96",
           "#ab63fa",
           "#FFA15A",
           "#19d3f3",
           "#FF6692",
           "#B6E880",
           "#FF97FF",
           "#FECB52"
          ],
          "font": {
           "color": "#2a3f5f"
          },
          "geo": {
           "bgcolor": "white",
           "lakecolor": "white",
           "landcolor": "#E5ECF6",
           "showlakes": true,
           "showland": true,
           "subunitcolor": "white"
          },
          "hoverlabel": {
           "align": "left"
          },
          "hovermode": "closest",
          "mapbox": {
           "style": "light"
          },
          "paper_bgcolor": "white",
          "plot_bgcolor": "#E5ECF6",
          "polar": {
           "angularaxis": {
            "gridcolor": "white",
            "linecolor": "white",
            "ticks": ""
           },
           "bgcolor": "#E5ECF6",
           "radialaxis": {
            "gridcolor": "white",
            "linecolor": "white",
            "ticks": ""
           }
          },
          "scene": {
           "xaxis": {
            "backgroundcolor": "#E5ECF6",
            "gridcolor": "white",
            "gridwidth": 2,
            "linecolor": "white",
            "showbackground": true,
            "ticks": "",
            "zerolinecolor": "white"
           },
           "yaxis": {
            "backgroundcolor": "#E5ECF6",
            "gridcolor": "white",
            "gridwidth": 2,
            "linecolor": "white",
            "showbackground": true,
            "ticks": "",
            "zerolinecolor": "white"
           },
           "zaxis": {
            "backgroundcolor": "#E5ECF6",
            "gridcolor": "white",
            "gridwidth": 2,
            "linecolor": "white",
            "showbackground": true,
            "ticks": "",
            "zerolinecolor": "white"
           }
          },
          "shapedefaults": {
           "line": {
            "color": "#2a3f5f"
           }
          },
          "ternary": {
           "aaxis": {
            "gridcolor": "white",
            "linecolor": "white",
            "ticks": ""
           },
           "baxis": {
            "gridcolor": "white",
            "linecolor": "white",
            "ticks": ""
           },
           "bgcolor": "#E5ECF6",
           "caxis": {
            "gridcolor": "white",
            "linecolor": "white",
            "ticks": ""
           }
          },
          "title": {
           "x": 0.05
          },
          "xaxis": {
           "automargin": true,
           "gridcolor": "white",
           "linecolor": "white",
           "ticks": "",
           "title": {
            "standoff": 15
           },
           "zerolinecolor": "white",
           "zerolinewidth": 2
          },
          "yaxis": {
           "automargin": true,
           "gridcolor": "white",
           "linecolor": "white",
           "ticks": "",
           "title": {
            "standoff": 15
           },
           "zerolinecolor": "white",
           "zerolinewidth": 2
          }
         }
        },
        "title": {
         "text": "Primary Completion Rate by Country"
        }
       }
      }
     },
     "metadata": {},
     "output_type": "display_data"
    }
   ],
   "source": [
    "# Choropleth map of youth literacy\n",
    "fig = px.choropleth(\n",
    "    df_selected,\n",
    "    locations='iso_code',\n",
    "    color='literacy_1524_m',\n",
    "    hover_name='country',\n",
    "    color_continuous_scale='Viridis',\n",
    "    scope='africa',\n",
    "    labels={'literacy_1524_m': 'Youth Literacy Rate'}\n",
    ")\n",
    "fig.update_layout(title_text='Youth Literacy Rate (15-24) by Country')\n",
    "fig.show()\n",
    "\n",
    "# Choropleth map of primary completion\n",
    "fig2 = px.choropleth(\n",
    "    df_selected,\n",
    "    locations='iso_code',\n",
    "    color='comp_prim_v2_m',\n",
    "    hover_name='country',\n",
    "    color_continuous_scale='Viridis',\n",
    "    scope='africa',\n",
    "    labels={'comp_prim_v2_m': 'Primary Completion Rate'}\n",
    ")\n",
    "fig2.update_layout(title_text='Primary Completion Rate by Country')\n",
    "fig2.show()"
   ]
  },
  {
   "cell_type": "markdown",
   "id": "2ed5f066",
   "metadata": {},
   "source": [
    "## Cluster Analysis\n",
    "Use K-means clustering on completion indicators."
   ]
  },
  {
   "cell_type": "code",
   "execution_count": 27,
   "id": "3493cb70",
   "metadata": {},
   "outputs": [
    {
     "data": {
      "application/vnd.plotly.v1+json": {
       "config": {
        "plotlyServerURL": "https://plot.ly"
       },
       "data": [
        {
         "name": "Primary",
         "type": "bar",
         "x": [
          "Cluster 0",
          "Cluster 1",
          "Cluster 2"
         ],
         "y": {
          "bdata": "AgAAoIuC6T+IiIgo4prgPwMAAED0kdE/",
          "dtype": "f8"
         }
        },
        {
         "name": "M",
         "type": "bar",
         "x": [
          "Cluster 0",
          "Cluster 1",
          "Cluster 2"
         ],
         "y": {
          "bdata": "SJIkqXQ65T+amZk5DWTQP1JVVZWof8s/",
          "dtype": "f8"
         }
        },
        {
         "name": "M",
         "type": "bar",
         "x": [
          "Cluster 0",
          "Cluster 1",
          "Cluster 2"
         ],
         "y": {
          "bdata": "TJIkOZv82T/z7u5eK1W/P1xVVeWxU8E/",
          "dtype": "f8"
         }
        }
       ],
       "layout": {
        "barmode": "group",
        "template": {
         "data": {
          "bar": [
           {
            "error_x": {
             "color": "#2a3f5f"
            },
            "error_y": {
             "color": "#2a3f5f"
            },
            "marker": {
             "line": {
              "color": "#E5ECF6",
              "width": 0.5
             },
             "pattern": {
              "fillmode": "overlay",
              "size": 10,
              "solidity": 0.2
             }
            },
            "type": "bar"
           }
          ],
          "barpolar": [
           {
            "marker": {
             "line": {
              "color": "#E5ECF6",
              "width": 0.5
             },
             "pattern": {
              "fillmode": "overlay",
              "size": 10,
              "solidity": 0.2
             }
            },
            "type": "barpolar"
           }
          ],
          "carpet": [
           {
            "aaxis": {
             "endlinecolor": "#2a3f5f",
             "gridcolor": "white",
             "linecolor": "white",
             "minorgridcolor": "white",
             "startlinecolor": "#2a3f5f"
            },
            "baxis": {
             "endlinecolor": "#2a3f5f",
             "gridcolor": "white",
             "linecolor": "white",
             "minorgridcolor": "white",
             "startlinecolor": "#2a3f5f"
            },
            "type": "carpet"
           }
          ],
          "choropleth": [
           {
            "colorbar": {
             "outlinewidth": 0,
             "ticks": ""
            },
            "type": "choropleth"
           }
          ],
          "contour": [
           {
            "colorbar": {
             "outlinewidth": 0,
             "ticks": ""
            },
            "colorscale": [
             [
              0,
              "#0d0887"
             ],
             [
              0.1111111111111111,
              "#46039f"
             ],
             [
              0.2222222222222222,
              "#7201a8"
             ],
             [
              0.3333333333333333,
              "#9c179e"
             ],
             [
              0.4444444444444444,
              "#bd3786"
             ],
             [
              0.5555555555555556,
              "#d8576b"
             ],
             [
              0.6666666666666666,
              "#ed7953"
             ],
             [
              0.7777777777777778,
              "#fb9f3a"
             ],
             [
              0.8888888888888888,
              "#fdca26"
             ],
             [
              1,
              "#f0f921"
             ]
            ],
            "type": "contour"
           }
          ],
          "contourcarpet": [
           {
            "colorbar": {
             "outlinewidth": 0,
             "ticks": ""
            },
            "type": "contourcarpet"
           }
          ],
          "heatmap": [
           {
            "colorbar": {
             "outlinewidth": 0,
             "ticks": ""
            },
            "colorscale": [
             [
              0,
              "#0d0887"
             ],
             [
              0.1111111111111111,
              "#46039f"
             ],
             [
              0.2222222222222222,
              "#7201a8"
             ],
             [
              0.3333333333333333,
              "#9c179e"
             ],
             [
              0.4444444444444444,
              "#bd3786"
             ],
             [
              0.5555555555555556,
              "#d8576b"
             ],
             [
              0.6666666666666666,
              "#ed7953"
             ],
             [
              0.7777777777777778,
              "#fb9f3a"
             ],
             [
              0.8888888888888888,
              "#fdca26"
             ],
             [
              1,
              "#f0f921"
             ]
            ],
            "type": "heatmap"
           }
          ],
          "histogram": [
           {
            "marker": {
             "pattern": {
              "fillmode": "overlay",
              "size": 10,
              "solidity": 0.2
             }
            },
            "type": "histogram"
           }
          ],
          "histogram2d": [
           {
            "colorbar": {
             "outlinewidth": 0,
             "ticks": ""
            },
            "colorscale": [
             [
              0,
              "#0d0887"
             ],
             [
              0.1111111111111111,
              "#46039f"
             ],
             [
              0.2222222222222222,
              "#7201a8"
             ],
             [
              0.3333333333333333,
              "#9c179e"
             ],
             [
              0.4444444444444444,
              "#bd3786"
             ],
             [
              0.5555555555555556,
              "#d8576b"
             ],
             [
              0.6666666666666666,
              "#ed7953"
             ],
             [
              0.7777777777777778,
              "#fb9f3a"
             ],
             [
              0.8888888888888888,
              "#fdca26"
             ],
             [
              1,
              "#f0f921"
             ]
            ],
            "type": "histogram2d"
           }
          ],
          "histogram2dcontour": [
           {
            "colorbar": {
             "outlinewidth": 0,
             "ticks": ""
            },
            "colorscale": [
             [
              0,
              "#0d0887"
             ],
             [
              0.1111111111111111,
              "#46039f"
             ],
             [
              0.2222222222222222,
              "#7201a8"
             ],
             [
              0.3333333333333333,
              "#9c179e"
             ],
             [
              0.4444444444444444,
              "#bd3786"
             ],
             [
              0.5555555555555556,
              "#d8576b"
             ],
             [
              0.6666666666666666,
              "#ed7953"
             ],
             [
              0.7777777777777778,
              "#fb9f3a"
             ],
             [
              0.8888888888888888,
              "#fdca26"
             ],
             [
              1,
              "#f0f921"
             ]
            ],
            "type": "histogram2dcontour"
           }
          ],
          "mesh3d": [
           {
            "colorbar": {
             "outlinewidth": 0,
             "ticks": ""
            },
            "type": "mesh3d"
           }
          ],
          "parcoords": [
           {
            "line": {
             "colorbar": {
              "outlinewidth": 0,
              "ticks": ""
             }
            },
            "type": "parcoords"
           }
          ],
          "pie": [
           {
            "automargin": true,
            "type": "pie"
           }
          ],
          "scatter": [
           {
            "fillpattern": {
             "fillmode": "overlay",
             "size": 10,
             "solidity": 0.2
            },
            "type": "scatter"
           }
          ],
          "scatter3d": [
           {
            "line": {
             "colorbar": {
              "outlinewidth": 0,
              "ticks": ""
             }
            },
            "marker": {
             "colorbar": {
              "outlinewidth": 0,
              "ticks": ""
             }
            },
            "type": "scatter3d"
           }
          ],
          "scattercarpet": [
           {
            "marker": {
             "colorbar": {
              "outlinewidth": 0,
              "ticks": ""
             }
            },
            "type": "scattercarpet"
           }
          ],
          "scattergeo": [
           {
            "marker": {
             "colorbar": {
              "outlinewidth": 0,
              "ticks": ""
             }
            },
            "type": "scattergeo"
           }
          ],
          "scattergl": [
           {
            "marker": {
             "colorbar": {
              "outlinewidth": 0,
              "ticks": ""
             }
            },
            "type": "scattergl"
           }
          ],
          "scattermap": [
           {
            "marker": {
             "colorbar": {
              "outlinewidth": 0,
              "ticks": ""
             }
            },
            "type": "scattermap"
           }
          ],
          "scattermapbox": [
           {
            "marker": {
             "colorbar": {
              "outlinewidth": 0,
              "ticks": ""
             }
            },
            "type": "scattermapbox"
           }
          ],
          "scatterpolar": [
           {
            "marker": {
             "colorbar": {
              "outlinewidth": 0,
              "ticks": ""
             }
            },
            "type": "scatterpolar"
           }
          ],
          "scatterpolargl": [
           {
            "marker": {
             "colorbar": {
              "outlinewidth": 0,
              "ticks": ""
             }
            },
            "type": "scatterpolargl"
           }
          ],
          "scatterternary": [
           {
            "marker": {
             "colorbar": {
              "outlinewidth": 0,
              "ticks": ""
             }
            },
            "type": "scatterternary"
           }
          ],
          "surface": [
           {
            "colorbar": {
             "outlinewidth": 0,
             "ticks": ""
            },
            "colorscale": [
             [
              0,
              "#0d0887"
             ],
             [
              0.1111111111111111,
              "#46039f"
             ],
             [
              0.2222222222222222,
              "#7201a8"
             ],
             [
              0.3333333333333333,
              "#9c179e"
             ],
             [
              0.4444444444444444,
              "#bd3786"
             ],
             [
              0.5555555555555556,
              "#d8576b"
             ],
             [
              0.6666666666666666,
              "#ed7953"
             ],
             [
              0.7777777777777778,
              "#fb9f3a"
             ],
             [
              0.8888888888888888,
              "#fdca26"
             ],
             [
              1,
              "#f0f921"
             ]
            ],
            "type": "surface"
           }
          ],
          "table": [
           {
            "cells": {
             "fill": {
              "color": "#EBF0F8"
             },
             "line": {
              "color": "white"
             }
            },
            "header": {
             "fill": {
              "color": "#C8D4E3"
             },
             "line": {
              "color": "white"
             }
            },
            "type": "table"
           }
          ]
         },
         "layout": {
          "annotationdefaults": {
           "arrowcolor": "#2a3f5f",
           "arrowhead": 0,
           "arrowwidth": 1
          },
          "autotypenumbers": "strict",
          "coloraxis": {
           "colorbar": {
            "outlinewidth": 0,
            "ticks": ""
           }
          },
          "colorscale": {
           "diverging": [
            [
             0,
             "#8e0152"
            ],
            [
             0.1,
             "#c51b7d"
            ],
            [
             0.2,
             "#de77ae"
            ],
            [
             0.3,
             "#f1b6da"
            ],
            [
             0.4,
             "#fde0ef"
            ],
            [
             0.5,
             "#f7f7f7"
            ],
            [
             0.6,
             "#e6f5d0"
            ],
            [
             0.7,
             "#b8e186"
            ],
            [
             0.8,
             "#7fbc41"
            ],
            [
             0.9,
             "#4d9221"
            ],
            [
             1,
             "#276419"
            ]
           ],
           "sequential": [
            [
             0,
             "#0d0887"
            ],
            [
             0.1111111111111111,
             "#46039f"
            ],
            [
             0.2222222222222222,
             "#7201a8"
            ],
            [
             0.3333333333333333,
             "#9c179e"
            ],
            [
             0.4444444444444444,
             "#bd3786"
            ],
            [
             0.5555555555555556,
             "#d8576b"
            ],
            [
             0.6666666666666666,
             "#ed7953"
            ],
            [
             0.7777777777777778,
             "#fb9f3a"
            ],
            [
             0.8888888888888888,
             "#fdca26"
            ],
            [
             1,
             "#f0f921"
            ]
           ],
           "sequentialminus": [
            [
             0,
             "#0d0887"
            ],
            [
             0.1111111111111111,
             "#46039f"
            ],
            [
             0.2222222222222222,
             "#7201a8"
            ],
            [
             0.3333333333333333,
             "#9c179e"
            ],
            [
             0.4444444444444444,
             "#bd3786"
            ],
            [
             0.5555555555555556,
             "#d8576b"
            ],
            [
             0.6666666666666666,
             "#ed7953"
            ],
            [
             0.7777777777777778,
             "#fb9f3a"
            ],
            [
             0.8888888888888888,
             "#fdca26"
            ],
            [
             1,
             "#f0f921"
            ]
           ]
          },
          "colorway": [
           "#636efa",
           "#EF553B",
           "#00cc96",
           "#ab63fa",
           "#FFA15A",
           "#19d3f3",
           "#FF6692",
           "#B6E880",
           "#FF97FF",
           "#FECB52"
          ],
          "font": {
           "color": "#2a3f5f"
          },
          "geo": {
           "bgcolor": "white",
           "lakecolor": "white",
           "landcolor": "#E5ECF6",
           "showlakes": true,
           "showland": true,
           "subunitcolor": "white"
          },
          "hoverlabel": {
           "align": "left"
          },
          "hovermode": "closest",
          "mapbox": {
           "style": "light"
          },
          "paper_bgcolor": "white",
          "plot_bgcolor": "#E5ECF6",
          "polar": {
           "angularaxis": {
            "gridcolor": "white",
            "linecolor": "white",
            "ticks": ""
           },
           "bgcolor": "#E5ECF6",
           "radialaxis": {
            "gridcolor": "white",
            "linecolor": "white",
            "ticks": ""
           }
          },
          "scene": {
           "xaxis": {
            "backgroundcolor": "#E5ECF6",
            "gridcolor": "white",
            "gridwidth": 2,
            "linecolor": "white",
            "showbackground": true,
            "ticks": "",
            "zerolinecolor": "white"
           },
           "yaxis": {
            "backgroundcolor": "#E5ECF6",
            "gridcolor": "white",
            "gridwidth": 2,
            "linecolor": "white",
            "showbackground": true,
            "ticks": "",
            "zerolinecolor": "white"
           },
           "zaxis": {
            "backgroundcolor": "#E5ECF6",
            "gridcolor": "white",
            "gridwidth": 2,
            "linecolor": "white",
            "showbackground": true,
            "ticks": "",
            "zerolinecolor": "white"
           }
          },
          "shapedefaults": {
           "line": {
            "color": "#2a3f5f"
           }
          },
          "ternary": {
           "aaxis": {
            "gridcolor": "white",
            "linecolor": "white",
            "ticks": ""
           },
           "baxis": {
            "gridcolor": "white",
            "linecolor": "white",
            "ticks": ""
           },
           "bgcolor": "#E5ECF6",
           "caxis": {
            "gridcolor": "white",
            "linecolor": "white",
            "ticks": ""
           }
          },
          "title": {
           "x": 0.05
          },
          "xaxis": {
           "automargin": true,
           "gridcolor": "white",
           "linecolor": "white",
           "ticks": "",
           "title": {
            "standoff": 15
           },
           "zerolinecolor": "white",
           "zerolinewidth": 2
          },
          "yaxis": {
           "automargin": true,
           "gridcolor": "white",
           "linecolor": "white",
           "ticks": "",
           "title": {
            "standoff": 15
           },
           "zerolinecolor": "white",
           "zerolinewidth": 2
          }
         }
        },
        "title": {
         "text": "Cluster Centers for Completion Rates"
        }
       }
      }
     },
     "metadata": {},
     "output_type": "display_data"
    }
   ],
   "source": [
    "# For clustering, include secondary completion if available\n",
    "cluster_df = df_latest.set_index('iso_code')\n",
    "features = ['comp_prim_v2_m']\n",
    "for col in ['comp_lowsec_v2_m', 'comp_upsec_v2_m']:\n",
    "    if col in cluster_df.columns:\n",
    "        features.append(col)\n",
    "\n",
    "X = cluster_df[features].dropna()\n",
    "kmeans = KMeans(n_clusters=3, random_state=0)\n",
    "cluster_df.loc[X.index, 'cluster'] = kmeans.fit_predict(X)\n",
    "\n",
    "# Plot cluster centers\n",
    "centers = kmeans.cluster_centers_\n",
    "fig = go.Figure(data=[\n",
    "    go.Bar(name='Primary', x=['Cluster 0', 'Cluster 1', 'Cluster 2'], y=centers[:, 0]),\n",
    "] +\n",
    "[go.Bar(name=col.split('_v2_')[1].capitalize(), x=['Cluster 0', 'Cluster 1', 'Cluster 2'], y=centers[:, i])\n",
    " for i, col in enumerate(features[1:], start=1)])\n",
    "fig.update_layout(barmode='group', title='Cluster Centers for Completion Rates')\n",
    "fig.show()"
   ]
  },
  {
   "cell_type": "markdown",
   "id": "c71121f6",
   "metadata": {},
   "source": [
    "## Interactive Dashboard Prototype (Plotly Dash)\n",
    "Below is a minimal Dash app example to host maps and filters."
   ]
  },
  {
   "cell_type": "code",
   "execution_count": 33,
   "id": "09bcab83",
   "metadata": {},
   "outputs": [
    {
     "data": {
      "text/html": [
       "\n",
       "        <iframe\n",
       "            width=\"100%\"\n",
       "            height=\"650\"\n",
       "            src=\"http://127.0.0.1:8052/\"\n",
       "            frameborder=\"0\"\n",
       "            allowfullscreen\n",
       "            \n",
       "        ></iframe>\n",
       "        "
      ],
      "text/plain": [
       "<IPython.lib.display.IFrame at 0x1bc9cdac510>"
      ]
     },
     "metadata": {},
     "output_type": "display_data"
    }
   ],
   "source": [
    "# Required imports\n",
    "import dash\n",
    "from dash import dcc, html, Input, Output\n",
    "import plotly.express as px\n",
    "import plotly.graph_objects as go\n",
    "import pandas as pd\n",
    "import numpy as np\n",
    "\n",
    "# Initialize Dash app\n",
    "app = dash.Dash(__name__)\n",
    "app.title = \"Education Access in Sub-Saharan Africa\"\n",
    "\n",
    "# Sample data generation\n",
    "def generate_sample_education_data():\n",
    "    \"\"\"Generate sample education data for Sub-Saharan African countries\"\"\"\n",
    "    countries = [\n",
    "        'Nigeria', 'Kenya', 'Uganda', 'Tanzania', 'Ghana', 'Ethiopia', \n",
    "        'Rwanda', 'Senegal', 'Mali', 'Burkina Faso', 'Niger', 'Chad',\n",
    "        'South Africa', 'Botswana', 'Zambia', 'Zimbabwe', 'Malawi', 'Mozambique'\n",
    "    ]\n",
    "    \n",
    "    iso_codes = [\n",
    "        'NGA', 'KEN', 'UGA', 'TZA', 'GHA', 'ETH', \n",
    "        'RWA', 'SEN', 'MLI', 'BFA', 'NER', 'TCD',\n",
    "        'ZAF', 'BWA', 'ZMB', 'ZWE', 'MWI', 'MOZ'\n",
    "    ]\n",
    "    \n",
    "    np.random.seed(42)\n",
    "    \n",
    "    data = []\n",
    "    for i, country in enumerate(countries):\n",
    "        literacy_rate = np.random.uniform(30, 95)\n",
    "        completion_rate = np.random.uniform(25, 90)\n",
    "        \n",
    "        data.append({\n",
    "            'country': country,\n",
    "            'iso_code': iso_codes[i],\n",
    "            'literacy_1524_m': round(literacy_rate, 1),\n",
    "            'comp_prim_v2_m': round(completion_rate, 1)\n",
    "        })\n",
    "    \n",
    "    return pd.DataFrame(data)\n",
    "\n",
    "# Generate sample data\n",
    "df_selected = generate_sample_education_data()\n",
    "\n",
    "# Z-PATTERN DASHBOARD LAYOUT\n",
    "app.layout = html.Div([\n",
    "    # TOP HORIZONTAL BAR (Z's top line) - Brand/Title + Key Stats\n",
    "    html.Div([\n",
    "        # Left: Brand/Title (Z's starting point)\n",
    "        html.Div([\n",
    "            html.H1(\" EDUCATION ACCESS\", \n",
    "                   style={'margin': '0', 'fontSize': '32px', 'fontWeight': '800', 'color': '#ffffff',\n",
    "                         'textShadow': '2px 2px 4px rgba(0,0,0,0.3)'}),\n",
    "            html.P(\"Sub-Saharan Africa Dashboard\", \n",
    "                  style={'margin': '5px 0 0 0', 'fontSize': '16px', 'color': '#e8f4f8', 'fontWeight': '500'})\n",
    "        ], style={'flex': '1'}),\n",
    "        \n",
    "        # Right: Key Statistics Cards (Z's top-right focus)\n",
    "        html.Div([\n",
    "            html.Div([\n",
    "                html.Div([\n",
    "                    html.H3(\"18\", style={'margin': '0', 'color': '#ffffff', 'fontSize': '28px', 'fontWeight': '700'}),\n",
    "                    html.P(\"Countries\", style={'margin': '0', 'fontSize': '12px', 'color': '#e8f4f8'})\n",
    "                ], style={'textAlign': 'center', 'padding': '15px 20px', 'backgroundColor': 'rgba(255,255,255,0.2)', \n",
    "                         'borderRadius': '15px', 'backdropFilter': 'blur(10px)', 'margin': '0 10px',\n",
    "                         'border': '1px solid rgba(255,255,255,0.3)'}),\n",
    "                \n",
    "                html.Div([\n",
    "                    html.H3(\"2024\", style={'margin': '0', 'color': '#ffffff', 'fontSize': '28px', 'fontWeight': '700'}),\n",
    "                    html.P(\"Latest Data\", style={'margin': '0', 'fontSize': '12px', 'color': '#e8f4f8'})\n",
    "                ], style={'textAlign': 'center', 'padding': '15px 20px', 'backgroundColor': 'rgba(46,204,113,0.3)', \n",
    "                         'borderRadius': '15px', 'backdropFilter': 'blur(10px)', 'margin': '0 10px',\n",
    "                         'border': '1px solid rgba(46,204,113,0.5)'})\n",
    "            ], style={'display': 'flex', 'alignItems': 'center'})\n",
    "        ], style={'display': 'flex', 'alignItems': 'center'})\n",
    "    ], style={\n",
    "        'background': 'linear-gradient(135deg, #667eea 0%, #764ba2 100%)',\n",
    "        'padding': '25px 40px', 'display': 'flex', 'alignItems': 'center', 'justifyContent': 'space-between',\n",
    "        'boxShadow': '0 8px 32px rgba(0,0,0,0.15)', 'position': 'relative'\n",
    "    }),\n",
    "    \n",
    "    # MAIN CONTENT AREA\n",
    "    html.Div([\n",
    "        # UPPER SECTION: Control Panel (left) + Summary Stats (right)\n",
    "        html.Div([\n",
    "            # LEFT: Interactive Controls (Z's diagonal starting point)\n",
    "            html.Div([\n",
    "                html.Div([\n",
    "                    html.H2(\" VISUALIZATION CONTROLS\", \n",
    "                           style={'margin': '0 0 25px 0', 'fontSize': '22px', 'color': '#2c3e50',\n",
    "                                 'textAlign': 'center', 'fontWeight': '700'}),\n",
    "                    \n",
    "                    # Indicator Selection Card\n",
    "                    html.Div([\n",
    "                        html.Label(\" Select Education Indicator\", \n",
    "                                  style={'fontWeight': '700', 'color': '#34495e', 'marginBottom': '12px', \n",
    "                                        'display': 'block', 'fontSize': '16px'}),\n",
    "                        dcc.Dropdown(\n",
    "                            id='indicator-dropdown',\n",
    "                            options=[\n",
    "                                {'label': ' Youth Literacy Rate (15-24 years)', 'value': 'literacy_1524_m'},\n",
    "                                {'label': ' Primary School Completion Rate', 'value': 'comp_prim_v2_m'}\n",
    "                            ],\n",
    "                            value='literacy_1524_m',\n",
    "                            style={'marginBottom': '20px', 'borderRadius': '12px', 'fontSize': '14px'}\n",
    "                        )\n",
    "                    ], style={\n",
    "                        'background': 'linear-gradient(135deg, #f8f9fa 0%, #e9ecef 100%)', \n",
    "                        'padding': '20px', 'borderRadius': '15px', 'marginBottom': '20px',\n",
    "                        'border': '2px solid #dee2e6', 'boxShadow': '0 4px 15px rgba(0,0,0,0.08)'\n",
    "                    }),\n",
    "                    \n",
    "                    # Quick Stats Card\n",
    "                    html.Div(id='quick-stats', style={\n",
    "                        'background': 'linear-gradient(135deg, #667eea 0%, #764ba2 100%)',\n",
    "                        'padding': '25px', 'borderRadius': '15px', 'color': 'white',\n",
    "                        'boxShadow': '0 8px 25px rgba(102,126,234,0.3)',\n",
    "                        'textAlign': 'center'\n",
    "                    })\n",
    "                ], style={\n",
    "                    'background': 'rgba(255,255,255,0.95)', 'padding': '30px', 'borderRadius': '20px',\n",
    "                    'boxShadow': '0 12px 40px rgba(0,0,0,0.1)', 'backdropFilter': 'blur(10px)',\n",
    "                    'border': '1px solid rgba(255,255,255,0.3)'\n",
    "                })\n",
    "            ], style={'width': '35%', 'marginRight': '3%'}),\n",
    "            \n",
    "            # RIGHT: Key Insights Panel (Z's top-right destination)\n",
    "            html.Div([\n",
    "                html.Div([\n",
    "                    html.H2(\" KEY INSIGHTS\", \n",
    "                           style={'margin': '0 0 20px 0', 'fontSize': '22px', 'color': '#2c3e50',\n",
    "                                 'textAlign': 'center', 'fontWeight': '700'}),\n",
    "                    html.Div(id='insights-panel')\n",
    "                ], style={\n",
    "                    'background': 'rgba(255,255,255,0.95)', 'padding': '30px', 'borderRadius': '20px',\n",
    "                    'boxShadow': '0 12px 40px rgba(0,0,0,0.1)', 'backdropFilter': 'blur(10px)',\n",
    "                    'border': '1px solid rgba(255,255,255,0.3)', 'height': '400px'\n",
    "                })\n",
    "            ], style={'width': '62%'})\n",
    "        ], style={'display': 'flex', 'marginBottom': '30px'}),\n",
    "        \n",
    "        # LOWER SECTION: Main Visualization (Z's bottom line - diagonal destination to final focus)\n",
    "        html.Div([\n",
    "            html.Div([\n",
    "                html.H2(\" INTERACTIVE MAP VISUALIZATION\", \n",
    "                       style={'margin': '0 0 25px 0', 'fontSize': '24px', 'color': '#2c3e50',\n",
    "                             'textAlign': 'center', 'fontWeight': '700'}),\n",
    "                dcc.Graph(id='choropleth-map', style={'height': '500px'})\n",
    "            ], style={\n",
    "                'background': 'rgba(255,255,255,0.95)', 'padding': '30px', 'borderRadius': '20px',\n",
    "                'boxShadow': '0 12px 40px rgba(0,0,0,0.1)', 'backdropFilter': 'blur(10px)',\n",
    "                'border': '1px solid rgba(255,255,255,0.3)'\n",
    "            })\n",
    "        ], style={'marginBottom': '30px'})\n",
    "        \n",
    "    ], style={'padding': '30px'})\n",
    "    \n",
    "], style={\n",
    "    'fontFamily': '\"Segoe UI\", Tahoma, Geneva, Verdana, sans-serif',\n",
    "    'background': 'linear-gradient(135deg, #667eea 0%, #764ba2 50%, #f093fb 100%)',\n",
    "    'minHeight': '100vh',\n",
    "    'position': 'relative'\n",
    "})\n",
    "\n",
    "# Callback for the choropleth map\n",
    "@app.callback(\n",
    "    Output('choropleth-map', 'figure'),\n",
    "    Input('indicator-dropdown', 'value')\n",
    ")\n",
    "def update_map(indicator):\n",
    "    # Create the choropleth map\n",
    "    fig = px.choropleth(\n",
    "        df_selected,\n",
    "        locations='iso_code',\n",
    "        color=indicator,\n",
    "        hover_name='country',\n",
    "        hover_data={indicator: ':.1f'},\n",
    "        color_continuous_scale='Viridis',\n",
    "        scope='africa',\n",
    "        labels={indicator: indicator.replace('_', ' ').title()}\n",
    "    )\n",
    "    \n",
    "    # Update layout for modern styling\n",
    "    fig.update_layout(\n",
    "        title_text=f'{indicator.replace(\"_\", \" \").title()} by Country',\n",
    "        title_font_size=18,\n",
    "        title_font_family=\"Segoe UI\",\n",
    "        title_font_color='#2c3e50',\n",
    "        geo=dict(\n",
    "            showframe=False,\n",
    "            showcoastlines=True,\n",
    "            projection_type='natural earth'\n",
    "        ),\n",
    "        plot_bgcolor='rgba(255,255,255,0.9)',\n",
    "        paper_bgcolor='rgba(255,255,255,0.9)',\n",
    "        font=dict(family=\"Segoe UI\", size=12)\n",
    "    )\n",
    "    \n",
    "    return fig\n",
    "\n",
    "# Callback for quick stats\n",
    "@app.callback(\n",
    "    Output('quick-stats', 'children'),\n",
    "    Input('indicator-dropdown', 'value')\n",
    ")\n",
    "def update_quick_stats(indicator):\n",
    "    indicator_name = \"Youth Literacy Rate\" if indicator == 'literacy_1524_m' else \"Primary Completion Rate\"\n",
    "    avg_value = df_selected[indicator].mean()\n",
    "    max_country = df_selected.loc[df_selected[indicator].idxmax(), 'country']\n",
    "    min_country = df_selected.loc[df_selected[indicator].idxmin(), 'country']\n",
    "    \n",
    "    return html.Div([\n",
    "        html.H3(\" QUICK STATISTICS\", \n",
    "               style={'margin': '0 0 20px 0', 'fontSize': '18px', 'fontWeight': '700', 'textAlign': 'center'}),\n",
    "        html.Div([\n",
    "            html.Div([\n",
    "                html.H4(f\"{avg_value:.1f}%\", style={'margin': '0', 'fontSize': '24px', 'fontWeight': '700'}),\n",
    "                html.P(\"Average Rate\", style={'margin': '0', 'fontSize': '12px', 'opacity': '0.9'})\n",
    "            ], style={'textAlign': 'center', 'marginBottom': '15px'}),\n",
    "            html.Div([\n",
    "                html.H4(max_country, style={'margin': '0', 'fontSize': '16px', 'fontWeight': '700'}),\n",
    "                html.P(\"Highest Performing\", style={'margin': '0', 'fontSize': '12px', 'opacity': '0.9'})\n",
    "            ], style={'textAlign': 'center', 'marginBottom': '15px'}),\n",
    "            html.Div([\n",
    "                html.H4(min_country, style={'margin': '0', 'fontSize': '16px', 'fontWeight': '700'}),\n",
    "                html.P(\"Needs Most Support\", style={'margin': '0', 'fontSize': '12px', 'opacity': '0.9'})\n",
    "            ], style={'textAlign': 'center'})\n",
    "        ])\n",
    "    ])\n",
    "\n",
    "# Callback for insights panel\n",
    "@app.callback(\n",
    "    Output('insights-panel', 'children'),\n",
    "    Input('indicator-dropdown', 'value')\n",
    ")\n",
    "def update_insights(indicator):\n",
    "    if indicator == 'literacy_1524_m':\n",
    "        insights = [\n",
    "            \" Literacy rates vary significantly across the region\",\n",
    "            \" Several countries show impressive progress in youth education\",\n",
    "            \" Rural-urban disparities remain a key challenge\",\n",
    "            \" Gender gaps in literacy are narrowing but persist\",\n",
    "            \" Investment in teacher training shows positive correlation\"\n",
    "        ]\n",
    "        color_scheme = 'linear-gradient(135deg, #3498db, #2980b9)'\n",
    "    else:\n",
    "        insights = [\n",
    "            \" Primary completion rates show regional variation\",\n",
    "            \" Economic factors strongly influence completion rates\",\n",
    "            \" Infrastructure development correlates with better outcomes\",\n",
    "            \"Community engagement programs show measurable impact\",\n",
    "            \" Nutrition programs improve retention rates significantly\"\n",
    "        ]\n",
    "        color_scheme = 'linear-gradient(135deg, #e67e22, #d35400)'\n",
    "    \n",
    "    insight_cards = []\n",
    "    for i, insight in enumerate(insights):\n",
    "        insight_cards.append(\n",
    "            html.Div([\n",
    "                html.P(insight, style={\n",
    "                    'margin': '0', 'fontSize': '14px', 'fontWeight': '600', \n",
    "                    'color': 'white', 'textAlign': 'center'\n",
    "                })\n",
    "            ], style={\n",
    "                'background': color_scheme,\n",
    "                'padding': '15px', 'borderRadius': '12px', 'marginBottom': '10px',\n",
    "                'boxShadow': '0 4px 15px rgba(0,0,0,0.1)',\n",
    "                'transform': 'scale(1)', 'transition': 'transform 0.3s ease'\n",
    "            })\n",
    "        )\n",
    "    \n",
    "    return html.Div(insight_cards)\n",
    "\n",
    "# Run the app\n",
    "if __name__ == '__main__':\n",
    "    app.run(debug=True, port=8052)"
   ]
  }
 ],
 "metadata": {
  "kernelspec": {
   "display_name": "newenv",
   "language": "python",
   "name": "newenv"
  },
  "language_info": {
   "codemirror_mode": {
    "name": "ipython",
    "version": 3
   },
   "file_extension": ".py",
   "mimetype": "text/x-python",
   "name": "python",
   "nbconvert_exporter": "python",
   "pygments_lexer": "ipython3",
   "version": "3.13.2"
  }
 },
 "nbformat": 4,
 "nbformat_minor": 5
}
